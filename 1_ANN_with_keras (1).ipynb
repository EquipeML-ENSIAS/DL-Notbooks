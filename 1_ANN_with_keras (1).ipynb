{
  "nbformat": 4,
  "nbformat_minor": 0,
  "metadata": {
    "kernelspec": {
      "display_name": "Python 3",
      "language": "python",
      "name": "python3"
    },
    "language_info": {
      "codemirror_mode": {
        "name": "ipython",
        "version": 3
      },
      "file_extension": ".py",
      "mimetype": "text/x-python",
      "name": "python",
      "nbconvert_exporter": "python",
      "pygments_lexer": "ipython3",
      "version": "3.6.1"
    },
    "nav_menu": {
      "height": "264px",
      "width": "369px"
    },
    "toc": {
      "navigate_menu": true,
      "number_sections": true,
      "sideBar": true,
      "threshold": 6,
      "toc_cell": false,
      "toc_section_display": "block",
      "toc_window_display": false
    },
    "colab": {
      "name": "1_ANN_with_keras.ipynb",
      "provenance": [],
      "collapsed_sections": []
    }
  },
  "cells": [
    {
      "cell_type": "markdown",
      "metadata": {
        "id": "xDlrf_hkUkTy"
      },
      "source": [
        "# Artificial Neural Networks with Keras"
      ]
    },
    {
      "cell_type": "markdown",
      "metadata": {
        "id": "QbtlEwJ1UkTz"
      },
      "source": [
        "<table align=\"left\">\n",
        "  <td>\n",
        "    <a target=\"_blank\" href=\"https://colab.research.google.com/github/AbdelMahm/INPT-2020/blob/master/Notebooks_DL/ANN_with_keras.ipynb\"><img src=\"https://colab.research.google.com/img/colab_favicon_256px.png\" />Run in Google Colab</a>\n",
        "  </td>\n",
        "</table>"
      ]
    },
    {
      "cell_type": "markdown",
      "metadata": {
        "id": "q-s6snxMUkTz"
      },
      "source": [
        "# Setup"
      ]
    },
    {
      "cell_type": "markdown",
      "metadata": {
        "id": "FOfogYMEUkTz"
      },
      "source": [
        "First, let's import a few common modules, ensure MatplotLib plots figures inline and prepare a function to save the figures. We also check that Python 3.5 or later is installed (although Python 2.x may work, it is deprecated so we strongly recommend you use Python 3 instead), as well as Scikit-Learn ≥0.20 and TensorFlow ≥2.0."
      ]
    },
    {
      "cell_type": "code",
      "metadata": {
        "id": "l5KPotZ6UkTz"
      },
      "source": [
        "# TensorFlow ≥2.0 is required\n",
        "import tensorflow as tf\n",
        "\n",
        "# Common imports\n",
        "import numpy as np\n",
        "import os\n",
        "\n",
        "# to make this notebook's output stable across runs\n",
        "np.random.seed(42)\n",
        "\n",
        "# To plot pretty figures\n",
        "%matplotlib inline\n",
        "import matplotlib as mpl\n",
        "import matplotlib.pyplot as plt\n",
        "mpl.rc('axes', labelsize=14)\n",
        "mpl.rc('xtick', labelsize=12)\n",
        "mpl.rc('ytick', labelsize=12)\n",
        "\n",
        "# Ignore useless warnings (see SciPy issue #5998)\n",
        "import warnings\n",
        "warnings.filterwarnings(action=\"ignore\", message=\"^internal gelsd\")"
      ],
      "execution_count": 4,
      "outputs": []
    },
    {
      "cell_type": "markdown",
      "metadata": {
        "id": "9rbOx15_UkT0"
      },
      "source": [
        "# Building an Image Classifier"
      ]
    },
    {
      "cell_type": "markdown",
      "metadata": {
        "id": "Ld6JpXDXUkT0"
      },
      "source": [
        "First let's import TensorFlow and Keras."
      ]
    },
    {
      "cell_type": "code",
      "metadata": {
        "id": "cw_pT2_qUkT0"
      },
      "source": [
        "import tensorflow as tf\n",
        "from tensorflow import keras"
      ],
      "execution_count": 5,
      "outputs": []
    },
    {
      "cell_type": "code",
      "metadata": {
        "id": "nAk3muLAUkT0",
        "colab": {
          "base_uri": "https://localhost:8080/",
          "height": 35
        },
        "outputId": "e0bfc56e-4c2d-48e9-cb83-d2f16fdc1bc2"
      },
      "source": [
        "tf.__version__"
      ],
      "execution_count": 6,
      "outputs": [
        {
          "output_type": "execute_result",
          "data": {
            "application/vnd.google.colaboratory.intrinsic+json": {
              "type": "string"
            },
            "text/plain": [
              "'2.3.0'"
            ]
          },
          "metadata": {
            "tags": []
          },
          "execution_count": 6
        }
      ]
    },
    {
      "cell_type": "markdown",
      "metadata": {
        "id": "uhBsdZQkUkT0"
      },
      "source": [
        "Let's start by loading the fashion MNIST dataset. Keras has a number of functions to load popular datasets in `keras.datasets`. The dataset is already split for you between a training set and a test set, but it can be useful to split the training set further to have a validation set:"
      ]
    },
    {
      "cell_type": "code",
      "metadata": {
        "id": "Ms8ntCsxUkT0",
        "colab": {
          "base_uri": "https://localhost:8080/"
        },
        "outputId": "842fff5e-53d0-422f-b167-8e5b3e8bc6be"
      },
      "source": [
        "fashion_mnist = keras.datasets.fashion_mnist\n",
        "(X_train_full, y_train_full), (X_test, y_test) = fashion_mnist.load_data()"
      ],
      "execution_count": 7,
      "outputs": [
        {
          "output_type": "stream",
          "text": [
            "Downloading data from https://storage.googleapis.com/tensorflow/tf-keras-datasets/train-labels-idx1-ubyte.gz\n",
            "32768/29515 [=================================] - 0s 0us/step\n",
            "Downloading data from https://storage.googleapis.com/tensorflow/tf-keras-datasets/train-images-idx3-ubyte.gz\n",
            "26427392/26421880 [==============================] - 0s 0us/step\n",
            "Downloading data from https://storage.googleapis.com/tensorflow/tf-keras-datasets/t10k-labels-idx1-ubyte.gz\n",
            "8192/5148 [===============================================] - 0s 0us/step\n",
            "Downloading data from https://storage.googleapis.com/tensorflow/tf-keras-datasets/t10k-images-idx3-ubyte.gz\n",
            "4423680/4422102 [==============================] - 0s 0us/step\n"
          ],
          "name": "stdout"
        }
      ]
    },
    {
      "cell_type": "markdown",
      "metadata": {
        "id": "WjHZsJVLUkT0"
      },
      "source": [
        "The training set contains 60,000 grayscale images, each 28x28 pixels:"
      ]
    },
    {
      "cell_type": "code",
      "metadata": {
        "id": "hzkVakTNUkT0",
        "colab": {
          "base_uri": "https://localhost:8080/"
        },
        "outputId": "bab84c5c-c554-4380-d531-ce1c9865f503"
      },
      "source": [
        "X_train_full.shape"
      ],
      "execution_count": 8,
      "outputs": [
        {
          "output_type": "execute_result",
          "data": {
            "text/plain": [
              "(60000, 28, 28)"
            ]
          },
          "metadata": {
            "tags": []
          },
          "execution_count": 8
        }
      ]
    },
    {
      "cell_type": "markdown",
      "metadata": {
        "id": "uHsBvsnvUkT0"
      },
      "source": [
        "Each pixel intensity is represented as a byte (0 to 255):"
      ]
    },
    {
      "cell_type": "code",
      "metadata": {
        "id": "isz_ukP1UkT0",
        "colab": {
          "base_uri": "https://localhost:8080/"
        },
        "outputId": "f64ec2a0-7166-4774-b84d-876f4b6fc7b2"
      },
      "source": [
        "X_train_full.dtype"
      ],
      "execution_count": 9,
      "outputs": [
        {
          "output_type": "execute_result",
          "data": {
            "text/plain": [
              "dtype('uint8')"
            ]
          },
          "metadata": {
            "tags": []
          },
          "execution_count": 9
        }
      ]
    },
    {
      "cell_type": "markdown",
      "metadata": {
        "id": "nTq5E38aUkT0"
      },
      "source": [
        "Let's split the full training set into a validation set and a (smaller) training set. We also scale the pixel intensities down to the 0-1 range and convert them to floats, by dividing by 255."
      ]
    },
    {
      "cell_type": "code",
      "metadata": {
        "id": "2TFKqEOrUkT1"
      },
      "source": [
        "X_valid, X_train = X_train_full[:5000] / 255., X_train_full[5000:] / 255.\n",
        "y_valid, y_train = y_train_full[:5000], y_train_full[5000:]\n",
        "X_test = X_test / 255."
      ],
      "execution_count": 10,
      "outputs": []
    },
    {
      "cell_type": "markdown",
      "metadata": {
        "id": "TxD7TgaGUkT1"
      },
      "source": [
        "You can plot an image using Matplotlib's `imshow()` function, with a `'binary'`\n",
        " color map:"
      ]
    },
    {
      "cell_type": "code",
      "metadata": {
        "id": "Bo-mzJFaUkT1",
        "colab": {
          "base_uri": "https://localhost:8080/",
          "height": 247
        },
        "outputId": "e5b4c468-2706-45cc-94bc-9d442ebd0e02"
      },
      "source": [
        "plt.imshow(X_train[0], cmap=\"binary\")\n",
        "plt.axis('off')\n",
        "plt.show()"
      ],
      "execution_count": 11,
      "outputs": [
        {
          "output_type": "display_data",
          "data": {
            "image/png": "[encoded data removed]",
            "text/plain": [
              "<Figure size 432x288 with 1 Axes>"
            ]
          },
          "metadata": {
            "tags": [],
            "needs_background": "light"
          }
        }
      ]
    },
    {
      "cell_type": "code",
      "metadata": {
        "id": "2BU-4VhpbCYB"
      },
      "source": [
        ""
      ],
      "execution_count": 11,
      "outputs": []
    },
    {
      "cell_type": "markdown",
      "metadata": {
        "id": "zQ6CEtT3UkT1"
      },
      "source": [
        "The labels are the class IDs (represented as uint8), from 0 to 9:"
      ]
    },
    {
      "cell_type": "code",
      "metadata": {
        "id": "1TdidVSiUkT1",
        "colab": {
          "base_uri": "https://localhost:8080/"
        },
        "outputId": "abb33465-befc-4fda-d0a5-a28083b8485d"
      },
      "source": [
        "y_train"
      ],
      "execution_count": 12,
      "outputs": [
        {
          "output_type": "execute_result",
          "data": {
            "text/plain": [
              "array([4, 0, 7, ..., 3, 0, 5], dtype=uint8)"
            ]
          },
          "metadata": {
            "tags": []
          },
          "execution_count": 12
        }
      ]
    },
    {
      "cell_type": "markdown",
      "metadata": {
        "id": "zfE5E88dUkT1"
      },
      "source": [
        "Here are the corresponding class names:"
      ]
    },
    {
      "cell_type": "code",
      "metadata": {
        "id": "fK8lJ_t3UkT1"
      },
      "source": [
        "class_names = [\"T-shirt/top\", \"Trouser\", \"Pullover\", \"Dress\", \"Coat\",\n",
        "               \"Sandal\", \"Shirt\", \"Sneaker\", \"Bag\", \"Ankle boot\"]"
      ],
      "execution_count": 13,
      "outputs": []
    },
    {
      "cell_type": "markdown",
      "metadata": {
        "id": "dK1lPLWaUkT1"
      },
      "source": [
        "So the first image in the training set is a coat:"
      ]
    },
    {
      "cell_type": "code",
      "metadata": {
        "id": "SAHtNAYkUkT1",
        "colab": {
          "base_uri": "https://localhost:8080/",
          "height": 35
        },
        "outputId": "49158c62-e6a7-466f-debb-4a74f72d1bfd"
      },
      "source": [
        "class_names[y_train[0]]"
      ],
      "execution_count": 14,
      "outputs": [
        {
          "output_type": "execute_result",
          "data": {
            "application/vnd.google.colaboratory.intrinsic+json": {
              "type": "string"
            },
            "text/plain": [
              "'Coat'"
            ]
          },
          "metadata": {
            "tags": []
          },
          "execution_count": 14
        }
      ]
    },
    {
      "cell_type": "markdown",
      "metadata": {
        "id": "F1OuRSWaUkT1"
      },
      "source": [
        "The validation set contains 5,000 images, and the test set contains 10,000 images:"
      ]
    },
    {
      "cell_type": "code",
      "metadata": {
        "id": "PbTHqa62UkT1",
        "colab": {
          "base_uri": "https://localhost:8080/"
        },
        "outputId": "611ec843-df00-446a-8f26-0ce540b247cb"
      },
      "source": [
        "X_valid.shape"
      ],
      "execution_count": 15,
      "outputs": [
        {
          "output_type": "execute_result",
          "data": {
            "text/plain": [
              "(5000, 28, 28)"
            ]
          },
          "metadata": {
            "tags": []
          },
          "execution_count": 15
        }
      ]
    },
    {
      "cell_type": "code",
      "metadata": {
        "id": "cnIlUK3RUkT1",
        "colab": {
          "base_uri": "https://localhost:8080/"
        },
        "outputId": "71ce5c90-4cb6-4655-f663-0e3b34baac9a"
      },
      "source": [
        "X_test.shape"
      ],
      "execution_count": 16,
      "outputs": [
        {
          "output_type": "execute_result",
          "data": {
            "text/plain": [
              "(10000, 28, 28)"
            ]
          },
          "metadata": {
            "tags": []
          },
          "execution_count": 16
        }
      ]
    },
    {
      "cell_type": "markdown",
      "metadata": {
        "id": "hKJ3lTZrUkT2"
      },
      "source": [
        "Let's take a look at a sample of the images in the dataset:"
      ]
    },
    {
      "cell_type": "code",
      "metadata": {
        "id": "hDwS9vZZUkT2",
        "colab": {
          "base_uri": "https://localhost:8080/",
          "height": 307
        },
        "outputId": "c3bb56b4-59d3-4025-d311-939cfea32232"
      },
      "source": [
        "n_rows = 4\n",
        "n_cols = 10\n",
        "plt.figure(figsize=(n_cols * 1.2, n_rows * 1.2))\n",
        "for row in range(n_rows):\n",
        "    for col in range(n_cols):\n",
        "        index = n_cols * row + col\n",
        "        plt.subplot(n_rows, n_cols, index + 1)\n",
        "        plt.imshow(X_train[index], cmap=\"binary\", interpolation=\"nearest\")\n",
        "        plt.axis('off')\n",
        "        plt.title(class_names[y_train[index]], fontsize=12)\n",
        "plt.subplots_adjust(wspace=0.2, hspace=0.5)\n",
        "plt.show()"
      ],
      "execution_count": 17,
      "outputs": [
        {
          "output_type": "display_data",
          "data": {
            "image/png": "[encoded data removed]",
            "text/plain": [
              "<Figure size 864x345.6 with 40 Axes>"
            ]
          },
          "metadata": {
            "tags": [],
            "needs_background": "light"
          }
        }
      ]
    },
    {
      "cell_type": "markdown",
      "metadata": {
        "id": "LdzXF1DcUkT2"
      },
      "source": [
        "## Construct a Model"
      ]
    },
    {
      "cell_type": "code",
      "metadata": {
        "id": "GaAqjUPnUkT2"
      },
      "source": [
        "model = keras.models.Sequential()\n",
        "model.add(keras.layers.Flatten(input_shape=[28, 28]))\n",
        "model.add(keras.layers.Dense(300, activation=\"relu\"))\n",
        "model.add(keras.layers.Dense(100, activation=\"relu\"))\n",
        "model.add(keras.layers.Dense(10, activation=\"softmax\"))"
      ],
      "execution_count": 18,
      "outputs": []
    },
    {
      "cell_type": "code",
      "metadata": {
        "id": "ESI7dm8qUkT2"
      },
      "source": [
        "keras.backend.clear_session()\n",
        "np.random.seed(42)"
      ],
      "execution_count": 19,
      "outputs": []
    },
    {
      "cell_type": "markdown",
      "metadata": {
        "id": "zC6MdjHUUkT2"
      },
      "source": [
        "### or using the folowing method"
      ]
    },
    {
      "cell_type": "code",
      "metadata": {
        "id": "QU1tA6MhUkT2"
      },
      "source": [
        "model = keras.models.Sequential([\n",
        "    keras.layers.Flatten(input_shape=[28, 28]),\n",
        "    keras.layers.Dense(300, activation=\"relu\"),\n",
        "    keras.layers.Dense(100, activation=\"relu\"),\n",
        "    keras.layers.Dense(10, activation=\"softmax\")\n",
        "])"
      ],
      "execution_count": 20,
      "outputs": []
    },
    {
      "cell_type": "code",
      "metadata": {
        "id": "aD7nsbswUkT2",
        "colab": {
          "base_uri": "https://localhost:8080/"
        },
        "outputId": "5e1a1f6e-624a-47ee-826d-40db97d507ae"
      },
      "source": [
        "model.layers"
      ],
      "execution_count": 21,
      "outputs": [
        {
          "output_type": "execute_result",
          "data": {
            "text/plain": [
              "[<tensorflow.python.keras.layers.core.Flatten at 0x7fb623729b70>,\n",
              " <tensorflow.python.keras.layers.core.Dense at 0x7fb623729cf8>,\n",
              " <tensorflow.python.keras.layers.core.Dense at 0x7fb623729f60>,\n",
              " <tensorflow.python.keras.layers.core.Dense at 0x7fb623732208>]"
            ]
          },
          "metadata": {
            "tags": []
          },
          "execution_count": 21
        }
      ]
    },
    {
      "cell_type": "code",
      "metadata": {
        "id": "izh2MzsrUkT2",
        "colab": {
          "base_uri": "https://localhost:8080/"
        },
        "outputId": "4aad807f-e618-4866-ee52-4fd1d3b348d6"
      },
      "source": [
        "model.summary()"
      ],
      "execution_count": 22,
      "outputs": [
        {
          "output_type": "stream",
          "text": [
            "Model: \"sequential\"\n",
            "_________________________________________________________________\n",
            "Layer (type)                 Output Shape              Param #   \n",
            "=================================================================\n",
            "flatten (Flatten)            (None, 784)               0         \n",
            "_________________________________________________________________\n",
            "dense (Dense)                (None, 300)               235500    \n",
            "_________________________________________________________________\n",
            "dense_1 (Dense)              (None, 100)               30100     \n",
            "_________________________________________________________________\n",
            "dense_2 (Dense)              (None, 10)                1010      \n",
            "=================================================================\n",
            "Total params: 266,610\n",
            "Trainable params: 266,610\n",
            "Non-trainable params: 0\n",
            "_________________________________________________________________\n"
          ],
          "name": "stdout"
        }
      ]
    },
    {
      "cell_type": "code",
      "metadata": {
        "id": "Vk9AQvjXUkT2",
        "colab": {
          "base_uri": "https://localhost:8080/",
          "height": 532
        },
        "outputId": "6d44ac89-7b25-47c9-a276-21abe0bb12b9"
      },
      "source": [
        "keras.utils.plot_model(model, \"my_mnist_model.png\", show_shapes=True)"
      ],
      "execution_count": 23,
      "outputs": [
        {
          "output_type": "execute_result",
          "data": {
            "image/png": "[encoded data removed]",
            "text/plain": [
              "<IPython.core.display.Image object>"
            ]
          },
          "metadata": {
            "tags": []
          },
          "execution_count": 23
        }
      ]
    },
    {
      "cell_type": "code",
      "metadata": {
        "id": "JmvcGn18UkT2",
        "colab": {
          "base_uri": "https://localhost:8080/",
          "height": 35
        },
        "outputId": "d412be23-2391-4f4c-f065-18c1c8b23019"
      },
      "source": [
        "hidden1 = model.layers[1]\n",
        "hidden1.name"
      ],
      "execution_count": 24,
      "outputs": [
        {
          "output_type": "execute_result",
          "data": {
            "application/vnd.google.colaboratory.intrinsic+json": {
              "type": "string"
            },
            "text/plain": [
              "'dense'"
            ]
          },
          "metadata": {
            "tags": []
          },
          "execution_count": 24
        }
      ]
    },
    {
      "cell_type": "code",
      "metadata": {
        "id": "9lvu93akUkT2",
        "colab": {
          "base_uri": "https://localhost:8080/"
        },
        "outputId": "a1e6e8fa-f3a7-4966-efd5-8528fc5765ea"
      },
      "source": [
        "model.get_layer(hidden1.name) is hidden1"
      ],
      "execution_count": 25,
      "outputs": [
        {
          "output_type": "execute_result",
          "data": {
            "text/plain": [
              "True"
            ]
          },
          "metadata": {
            "tags": []
          },
          "execution_count": 25
        }
      ]
    },
    {
      "cell_type": "code",
      "metadata": {
        "id": "XhO0vn2yUkT2"
      },
      "source": [
        "weights, biases = hidden1.get_weights()"
      ],
      "execution_count": 26,
      "outputs": []
    },
    {
      "cell_type": "code",
      "metadata": {
        "id": "g8zWqc7QUkT3",
        "colab": {
          "base_uri": "https://localhost:8080/"
        },
        "outputId": "08130bc2-1307-42fb-b0fe-d2e86fb14107"
      },
      "source": [
        "weights"
      ],
      "execution_count": 27,
      "outputs": [
        {
          "output_type": "execute_result",
          "data": {
            "text/plain": [
              "array([[ 0.01342862,  0.01043853,  0.00067923, ..., -0.02381896,\n",
              "        -0.06863397,  0.03148931],\n",
              "       [ 0.05316801,  0.02900838, -0.06660262, ..., -0.03422189,\n",
              "        -0.07418638,  0.06243904],\n",
              "       [-0.05936707,  0.0334303 , -0.04792805, ...,  0.01758252,\n",
              "        -0.03481923,  0.00128081],\n",
              "       ...,\n",
              "       [ 0.07384484, -0.0626557 , -0.01061916, ...,  0.03247853,\n",
              "        -0.0423592 , -0.03579176],\n",
              "       [-0.01410741, -0.02385754, -0.04226847, ..., -0.00733756,\n",
              "        -0.04916498,  0.02030785],\n",
              "       [ 0.02348933, -0.01729166, -0.04776473, ..., -0.04564814,\n",
              "        -0.01054791, -0.06456779]], dtype=float32)"
            ]
          },
          "metadata": {
            "tags": []
          },
          "execution_count": 27
        }
      ]
    },
    {
      "cell_type": "code",
      "metadata": {
        "id": "Xyh_BjYsUkT3",
        "colab": {
          "base_uri": "https://localhost:8080/"
        },
        "outputId": "fadbc954-8bc1-4f1c-f2e0-0260b3df3d9f"
      },
      "source": [
        "weights.shape"
      ],
      "execution_count": 28,
      "outputs": [
        {
          "output_type": "execute_result",
          "data": {
            "text/plain": [
              "(784, 300)"
            ]
          },
          "metadata": {
            "tags": []
          },
          "execution_count": 28
        }
      ]
    },
    {
      "cell_type": "code",
      "metadata": {
        "id": "vjjLEfYsUkT3",
        "colab": {
          "base_uri": "https://localhost:8080/"
        },
        "outputId": "70697568-5a36-4d93-856e-b4aac2104686"
      },
      "source": [
        "biases"
      ],
      "execution_count": 29,
      "outputs": [
        {
          "output_type": "execute_result",
          "data": {
            "text/plain": [
              "array([0., 0., 0., 0., 0., 0., 0., 0., 0., 0., 0., 0., 0., 0., 0., 0., 0.,\n",
              "       0., 0., 0., 0., 0., 0., 0., 0., 0., 0., 0., 0., 0., 0., 0., 0., 0.,\n",
              "       0., 0., 0., 0., 0., 0., 0., 0., 0., 0., 0., 0., 0., 0., 0., 0., 0.,\n",
              "       0., 0., 0., 0., 0., 0., 0., 0., 0., 0., 0., 0., 0., 0., 0., 0., 0.,\n",
              "       0., 0., 0., 0., 0., 0., 0., 0., 0., 0., 0., 0., 0., 0., 0., 0., 0.,\n",
              "       0., 0., 0., 0., 0., 0., 0., 0., 0., 0., 0., 0., 0., 0., 0., 0., 0.,\n",
              "       0., 0., 0., 0., 0., 0., 0., 0., 0., 0., 0., 0., 0., 0., 0., 0., 0.,\n",
              "       0., 0., 0., 0., 0., 0., 0., 0., 0., 0., 0., 0., 0., 0., 0., 0., 0.,\n",
              "       0., 0., 0., 0., 0., 0., 0., 0., 0., 0., 0., 0., 0., 0., 0., 0., 0.,\n",
              "       0., 0., 0., 0., 0., 0., 0., 0., 0., 0., 0., 0., 0., 0., 0., 0., 0.,\n",
              "       0., 0., 0., 0., 0., 0., 0., 0., 0., 0., 0., 0., 0., 0., 0., 0., 0.,\n",
              "       0., 0., 0., 0., 0., 0., 0., 0., 0., 0., 0., 0., 0., 0., 0., 0., 0.,\n",
              "       0., 0., 0., 0., 0., 0., 0., 0., 0., 0., 0., 0., 0., 0., 0., 0., 0.,\n",
              "       0., 0., 0., 0., 0., 0., 0., 0., 0., 0., 0., 0., 0., 0., 0., 0., 0.,\n",
              "       0., 0., 0., 0., 0., 0., 0., 0., 0., 0., 0., 0., 0., 0., 0., 0., 0.,\n",
              "       0., 0., 0., 0., 0., 0., 0., 0., 0., 0., 0., 0., 0., 0., 0., 0., 0.,\n",
              "       0., 0., 0., 0., 0., 0., 0., 0., 0., 0., 0., 0., 0., 0., 0., 0., 0.,\n",
              "       0., 0., 0., 0., 0., 0., 0., 0., 0., 0., 0.], dtype=float32)"
            ]
          },
          "metadata": {
            "tags": []
          },
          "execution_count": 29
        }
      ]
    },
    {
      "cell_type": "code",
      "metadata": {
        "id": "Hq4X0c_UUkT3",
        "colab": {
          "base_uri": "https://localhost:8080/"
        },
        "outputId": "a104dd34-4336-458f-a2eb-d8c319cbdf63"
      },
      "source": [
        "biases.shape"
      ],
      "execution_count": 30,
      "outputs": [
        {
          "output_type": "execute_result",
          "data": {
            "text/plain": [
              "(300,)"
            ]
          },
          "metadata": {
            "tags": []
          },
          "execution_count": 30
        }
      ]
    },
    {
      "cell_type": "markdown",
      "metadata": {
        "id": "1Y6V9H6HUkT3"
      },
      "source": [
        "### Compile the Model\n",
        "Here you can chose the loss function, the optimizer, the performance metric, etc. check Keras documentation for further details."
      ]
    },
    {
      "cell_type": "code",
      "metadata": {
        "id": "YcffKq2oUkT3"
      },
      "source": [
        "model.compile(loss=\"sparse_categorical_crossentropy\",\n",
        "              optimizer=\"sgd\",\n",
        "              metrics=[\"accuracy\"])"
      ],
      "execution_count": 31,
      "outputs": []
    },
    {
      "cell_type": "markdown",
      "metadata": {
        "id": "xQs-jfYhUkT3"
      },
      "source": [
        "This is equivalent to:"
      ]
    },
    {
      "cell_type": "markdown",
      "metadata": {
        "id": "yBuJy3M8UkT3"
      },
      "source": [
        "```python\n",
        "model.compile(loss=keras.losses.sparse_categorical_crossentropy,\n",
        "              optimizer=keras.optimizers.SGD(),\n",
        "              metrics=[keras.metrics.sparse_categorical_accuracy])\n",
        "```"
      ]
    },
    {
      "cell_type": "markdown",
      "metadata": {
        "id": "m7y2d2xiUkT3"
      },
      "source": [
        "### Train the model\n",
        "Here you can chose how many epochs you need and the batch size."
      ]
    },
    {
      "cell_type": "code",
      "metadata": {
        "id": "kdJLlzWyUkT3",
        "colab": {
          "base_uri": "https://localhost:8080/"
        },
        "outputId": "22dacd37-3fdd-4fa7-b421-cce686868160"
      },
      "source": [
        "history = model.fit(X_train, y_train, batch_size=32, epochs=30,\n",
        "                    validation_data=(X_valid, y_valid))"
      ],
      "execution_count": 32,
      "outputs": [
        {
          "output_type": "stream",
          "text": [
            "Epoch 1/30\n",
            "1719/1719 [==============================] - 5s 3ms/step - loss: 0.7226 - accuracy: 0.7679 - val_loss: 0.5182 - val_accuracy: 0.8206\n",
            "Epoch 2/30\n",
            "1719/1719 [==============================] - 5s 3ms/step - loss: 0.4872 - accuracy: 0.8316 - val_loss: 0.4571 - val_accuracy: 0.8456\n",
            "Epoch 3/30\n",
            "1719/1719 [==============================] - 5s 3ms/step - loss: 0.4414 - accuracy: 0.8444 - val_loss: 0.4302 - val_accuracy: 0.8564\n",
            "Epoch 4/30\n",
            "1719/1719 [==============================] - 5s 3ms/step - loss: 0.4158 - accuracy: 0.8541 - val_loss: 0.4257 - val_accuracy: 0.8484\n",
            "Epoch 5/30\n",
            "1719/1719 [==============================] - 5s 3ms/step - loss: 0.3951 - accuracy: 0.8612 - val_loss: 0.4040 - val_accuracy: 0.8624\n",
            "Epoch 6/30\n",
            "1719/1719 [==============================] - 5s 3ms/step - loss: 0.3797 - accuracy: 0.8652 - val_loss: 0.3983 - val_accuracy: 0.8600\n",
            "Epoch 7/30\n",
            "1719/1719 [==============================] - 5s 3ms/step - loss: 0.3661 - accuracy: 0.8706 - val_loss: 0.3749 - val_accuracy: 0.8702\n",
            "Epoch 8/30\n",
            "1719/1719 [==============================] - 5s 3ms/step - loss: 0.3548 - accuracy: 0.8749 - val_loss: 0.3621 - val_accuracy: 0.8766\n",
            "Epoch 9/30\n",
            "1719/1719 [==============================] - 5s 3ms/step - loss: 0.3440 - accuracy: 0.8769 - val_loss: 0.3563 - val_accuracy: 0.8726\n",
            "Epoch 10/30\n",
            "1719/1719 [==============================] - 5s 3ms/step - loss: 0.3341 - accuracy: 0.8822 - val_loss: 0.3494 - val_accuracy: 0.8786\n",
            "Epoch 11/30\n",
            "1719/1719 [==============================] - 5s 3ms/step - loss: 0.3274 - accuracy: 0.8842 - val_loss: 0.3400 - val_accuracy: 0.8778\n",
            "Epoch 12/30\n",
            "1719/1719 [==============================] - 5s 3ms/step - loss: 0.3194 - accuracy: 0.8873 - val_loss: 0.3415 - val_accuracy: 0.8826\n",
            "Epoch 13/30\n",
            "1719/1719 [==============================] - 5s 3ms/step - loss: 0.3119 - accuracy: 0.8885 - val_loss: 0.3263 - val_accuracy: 0.8850\n",
            "Epoch 14/30\n",
            "1719/1719 [==============================] - 5s 3ms/step - loss: 0.3064 - accuracy: 0.8910 - val_loss: 0.3290 - val_accuracy: 0.8858\n",
            "Epoch 15/30\n",
            "1719/1719 [==============================] - 5s 3ms/step - loss: 0.2987 - accuracy: 0.8925 - val_loss: 0.3305 - val_accuracy: 0.8838\n",
            "Epoch 16/30\n",
            "1719/1719 [==============================] - 5s 3ms/step - loss: 0.2936 - accuracy: 0.8942 - val_loss: 0.3279 - val_accuracy: 0.8830\n",
            "Epoch 17/30\n",
            "1719/1719 [==============================] - 5s 3ms/step - loss: 0.2873 - accuracy: 0.8966 - val_loss: 0.3290 - val_accuracy: 0.8848\n",
            "Epoch 18/30\n",
            "1719/1719 [==============================] - 5s 3ms/step - loss: 0.2814 - accuracy: 0.8984 - val_loss: 0.3103 - val_accuracy: 0.8916\n",
            "Epoch 19/30\n",
            "1719/1719 [==============================] - 5s 3ms/step - loss: 0.2769 - accuracy: 0.9006 - val_loss: 0.3083 - val_accuracy: 0.8906\n",
            "Epoch 20/30\n",
            "1719/1719 [==============================] - 5s 3ms/step - loss: 0.2718 - accuracy: 0.9028 - val_loss: 0.3171 - val_accuracy: 0.8868\n",
            "Epoch 21/30\n",
            "1719/1719 [==============================] - 5s 3ms/step - loss: 0.2667 - accuracy: 0.9039 - val_loss: 0.3210 - val_accuracy: 0.8848\n",
            "Epoch 22/30\n",
            "1719/1719 [==============================] - 5s 3ms/step - loss: 0.2617 - accuracy: 0.9059 - val_loss: 0.3388 - val_accuracy: 0.8770\n",
            "Epoch 23/30\n",
            "1719/1719 [==============================] - 5s 3ms/step - loss: 0.2583 - accuracy: 0.9071 - val_loss: 0.3043 - val_accuracy: 0.8922\n",
            "Epoch 24/30\n",
            "1719/1719 [==============================] - 5s 3ms/step - loss: 0.2531 - accuracy: 0.9090 - val_loss: 0.3074 - val_accuracy: 0.8894\n",
            "Epoch 25/30\n",
            "1719/1719 [==============================] - 5s 3ms/step - loss: 0.2485 - accuracy: 0.9113 - val_loss: 0.3128 - val_accuracy: 0.8874\n",
            "Epoch 26/30\n",
            "1719/1719 [==============================] - 5s 3ms/step - loss: 0.2452 - accuracy: 0.9125 - val_loss: 0.3027 - val_accuracy: 0.8902\n",
            "Epoch 27/30\n",
            "1719/1719 [==============================] - 5s 3ms/step - loss: 0.2413 - accuracy: 0.9133 - val_loss: 0.3141 - val_accuracy: 0.8894\n",
            "Epoch 28/30\n",
            "1719/1719 [==============================] - 5s 3ms/step - loss: 0.2370 - accuracy: 0.9148 - val_loss: 0.2975 - val_accuracy: 0.8934\n",
            "Epoch 29/30\n",
            "1719/1719 [==============================] - 5s 3ms/step - loss: 0.2332 - accuracy: 0.9160 - val_loss: 0.3041 - val_accuracy: 0.8908\n",
            "Epoch 30/30\n",
            "1719/1719 [==============================] - 5s 3ms/step - loss: 0.2291 - accuracy: 0.9183 - val_loss: 0.3011 - val_accuracy: 0.8914\n"
          ],
          "name": "stdout"
        }
      ]
    },
    {
      "cell_type": "code",
      "metadata": {
        "id": "8tsgvTLwUkT3",
        "colab": {
          "base_uri": "https://localhost:8080/"
        },
        "outputId": "3584036c-3c68-454d-f86e-949bf24c404e"
      },
      "source": [
        "history.params"
      ],
      "execution_count": 33,
      "outputs": [
        {
          "output_type": "execute_result",
          "data": {
            "text/plain": [
              "{'epochs': 30, 'steps': 1719, 'verbose': 1}"
            ]
          },
          "metadata": {
            "tags": []
          },
          "execution_count": 33
        }
      ]
    },
    {
      "cell_type": "code",
      "metadata": {
        "id": "RlK3_IKbUkT3",
        "colab": {
          "base_uri": "https://localhost:8080/"
        },
        "outputId": "0cd5f6ae-e9b4-41c7-beeb-4a3024b7529d"
      },
      "source": [
        "print(history.epoch)"
      ],
      "execution_count": 34,
      "outputs": [
        {
          "output_type": "stream",
          "text": [
            "[0, 1, 2, 3, 4, 5, 6, 7, 8, 9, 10, 11, 12, 13, 14, 15, 16, 17, 18, 19, 20, 21, 22, 23, 24, 25, 26, 27, 28, 29]\n"
          ],
          "name": "stdout"
        }
      ]
    },
    {
      "cell_type": "code",
      "metadata": {
        "id": "v99Wfzp4UkT3",
        "colab": {
          "base_uri": "https://localhost:8080/"
        },
        "outputId": "427d6785-54fa-481a-9f5f-7890f51e6037"
      },
      "source": [
        "history.history.keys()"
      ],
      "execution_count": 35,
      "outputs": [
        {
          "output_type": "execute_result",
          "data": {
            "text/plain": [
              "dict_keys(['loss', 'accuracy', 'val_loss', 'val_accuracy'])"
            ]
          },
          "metadata": {
            "tags": []
          },
          "execution_count": 35
        }
      ]
    },
    {
      "cell_type": "markdown",
      "metadata": {
        "id": "IG38O7ELUkT4"
      },
      "source": [
        "### Plot learning Curves"
      ]
    },
    {
      "cell_type": "code",
      "metadata": {
        "id": "xCRu41HHUkT4",
        "colab": {
          "base_uri": "https://localhost:8080/",
          "height": 327
        },
        "outputId": "4e68ea11-b2f2-4204-b499-ccdcc99c8ef9"
      },
      "source": [
        "import pandas as pd\n",
        "\n",
        "pd.DataFrame(history.history).plot(figsize=(8, 5))\n",
        "plt.grid(True)\n",
        "plt.gca().set_ylim(0, 1)\n",
        "plt.show()"
      ],
      "execution_count": 36,
      "outputs": [
        {
          "output_type": "display_data",
          "data": {
            "image/png": "[encoded data removed]",
            "text/plain": [
              "<Figure size 576x360 with 1 Axes>"
            ]
          },
          "metadata": {
            "tags": [],
            "needs_background": "light"
          }
        }
      ]
    },
    {
      "cell_type": "code",
      "metadata": {
        "id": "dCl8VBmYUkT4",
        "colab": {
          "base_uri": "https://localhost:8080/"
        },
        "outputId": "e4e44e84-07ff-4f6c-f02d-8f13c8ad427b"
      },
      "source": [
        "model.evaluate(X_test, y_test)"
      ],
      "execution_count": null,
      "outputs": [
        {
          "output_type": "stream",
          "text": [
            "313/313 [==============================] - 0s 1ms/step - loss: 0.3251 - accuracy: 0.8856\n"
          ],
          "name": "stdout"
        },
        {
          "output_type": "execute_result",
          "data": {
            "text/plain": [
              "[0.3250580430030823, 0.8855999708175659]"
            ]
          },
          "metadata": {
            "tags": []
          },
          "execution_count": 48
        }
      ]
    },
    {
      "cell_type": "code",
      "metadata": {
        "id": "dPz52B5-UkT4",
        "colab": {
          "base_uri": "https://localhost:8080/"
        },
        "outputId": "60b6eca7-4170-439f-fb91-c66a6eb206df"
      },
      "source": [
        "X_new = X_test[:3]\n",
        "y_proba = model.predict(X_new)\n",
        "y_proba.round(2)"
      ],
      "execution_count": 37,
      "outputs": [
        {
          "output_type": "execute_result",
          "data": {
            "text/plain": [
              "array([[0.  , 0.  , 0.  , 0.  , 0.  , 0.01, 0.  , 0.01, 0.  , 0.97],\n",
              "       [0.  , 0.  , 0.97, 0.  , 0.02, 0.  , 0.01, 0.  , 0.  , 0.  ],\n",
              "       [0.  , 1.  , 0.  , 0.  , 0.  , 0.  , 0.  , 0.  , 0.  , 0.  ]],\n",
              "      dtype=float32)"
            ]
          },
          "metadata": {
            "tags": []
          },
          "execution_count": 37
        }
      ]
    },
    {
      "cell_type": "code",
      "metadata": {
        "id": "UTHtwVv1UkT4",
        "colab": {
          "base_uri": "https://localhost:8080/"
        },
        "outputId": "bb96194d-e7f3-4922-d70c-e5c7609bb109"
      },
      "source": [
        "y_pred = model.predict_classes(X_new)\n",
        "y_pred"
      ],
      "execution_count": 38,
      "outputs": [
        {
          "output_type": "stream",
          "text": [
            "WARNING:tensorflow:From <ipython-input-38-81ace37e545f>:1: Sequential.predict_classes (from tensorflow.python.keras.engine.sequential) is deprecated and will be removed after 2021-01-01.\n",
            "Instructions for updating:\n",
            "Please use instead:* `np.argmax(model.predict(x), axis=-1)`,   if your model does multi-class classification   (e.g. if it uses a `softmax` last-layer activation).* `(model.predict(x) > 0.5).astype(\"int32\")`,   if your model does binary classification   (e.g. if it uses a `sigmoid` last-layer activation).\n"
          ],
          "name": "stdout"
        },
        {
          "output_type": "execute_result",
          "data": {
            "text/plain": [
              "array([9, 2, 1])"
            ]
          },
          "metadata": {
            "tags": []
          },
          "execution_count": 38
        }
      ]
    },
    {
      "cell_type": "code",
      "metadata": {
        "id": "Zri7b-gBUkT4",
        "colab": {
          "base_uri": "https://localhost:8080/"
        },
        "outputId": "96222d3c-18a3-4ae2-d812-9d485e168e45"
      },
      "source": [
        "np.array(class_names)[y_pred]"
      ],
      "execution_count": 39,
      "outputs": [
        {
          "output_type": "execute_result",
          "data": {
            "text/plain": [
              "array(['Ankle boot', 'Pullover', 'Trouser'], dtype='<U11')"
            ]
          },
          "metadata": {
            "tags": []
          },
          "execution_count": 39
        }
      ]
    },
    {
      "cell_type": "code",
      "metadata": {
        "id": "vwdh_TnIUkT4",
        "colab": {
          "base_uri": "https://localhost:8080/"
        },
        "outputId": "504b9914-4496-492a-8394-7b4c11aae097"
      },
      "source": [
        "y_new = y_test[:3]\n",
        "y_new"
      ],
      "execution_count": 40,
      "outputs": [
        {
          "output_type": "execute_result",
          "data": {
            "text/plain": [
              "array([9, 2, 1], dtype=uint8)"
            ]
          },
          "metadata": {
            "tags": []
          },
          "execution_count": 40
        }
      ]
    },
    {
      "cell_type": "code",
      "metadata": {
        "id": "x5hjP0V4UkT4",
        "colab": {
          "base_uri": "https://localhost:8080/",
          "height": 165
        },
        "outputId": "e762163d-928b-402a-a7fa-4a3d7b790f34"
      },
      "source": [
        "plt.figure(figsize=(7.2, 2.4))\n",
        "for index, image in enumerate(X_new):\n",
        "    plt.subplot(1, 3, index + 1)\n",
        "    plt.imshow(image, cmap=\"binary\", interpolation=\"nearest\")\n",
        "    plt.axis('off')\n",
        "    plt.title(class_names[y_test[index]], fontsize=12)\n",
        "plt.subplots_adjust(wspace=0.2, hspace=0.5)\n",
        "plt.show()"
      ],
      "execution_count": 41,
      "outputs": [
        {
          "output_type": "display_data",
          "data": {
            "image/png": "[encoded data removed]",
            "text/plain": [
              "<Figure size 518.4x172.8 with 3 Axes>"
            ]
          },
          "metadata": {
            "tags": [],
            "needs_background": "light"
          }
        }
      ]
    },
    {
      "cell_type": "markdown",
      "metadata": {
        "collapsed": true,
        "id": "OxJY0NEIUkT4"
      },
      "source": [
        "## Exercise"
      ]
    },
    {
      "cell_type": "markdown",
      "metadata": {
        "id": "VhidYj9RUkT4"
      },
      "source": [
        "#### 1) Plot Learning curves when using different optimizers\n",
        "#### 2) Plot Learning curves when using different batch size\n",
        "#### 3) Plot Learning curves when using different number of epochs\n",
        "#### 4) repeat with more layers\n",
        "#### 5) apply on different datasets"
      ]
    },
    {
      "cell_type": "markdown",
      "metadata": {
        "id": "v6weeXJtdyF7"
      },
      "source": [
        "Solution"
      ]
    },
    {
      "cell_type": "markdown",
      "metadata": {
        "id": "5qIUWcUTdt3z"
      },
      "source": [
        "1) Plot Learning curves when using different optimizers"
      ]
    },
    {
      "cell_type": "markdown",
      "metadata": {
        "id": "T3VrPsIYemTD"
      },
      "source": [
        "Adam optimizer"
      ]
    },
    {
      "cell_type": "code",
      "metadata": {
        "colab": {
          "base_uri": "https://localhost:8080/"
        },
        "id": "bI9BswINelKB",
        "outputId": "d4a2d2cb-3a39-4571-cd85-cd7cfff5264a"
      },
      "source": [
        "#Compile the Model\n",
        "model.compile(loss=\"sparse_categorical_crossentropy\",optimizer=\"Adam\",metrics=[\"accuracy\"])\n",
        "\n",
        "# Train the Model\n",
        "history_Adam = model.fit(X_train, y_train, batch_size=32, epochs=30,validation_data=(X_valid, y_valid))"
      ],
      "execution_count": 42,
      "outputs": [
        {
          "output_type": "stream",
          "text": [
            "Epoch 1/30\n",
            "1719/1719 [==============================] - 6s 3ms/step - loss: 0.3803 - accuracy: 0.8621 - val_loss: 0.3432 - val_accuracy: 0.8782\n",
            "Epoch 2/30\n",
            "1719/1719 [==============================] - 6s 3ms/step - loss: 0.3301 - accuracy: 0.8782 - val_loss: 0.3489 - val_accuracy: 0.8730\n",
            "Epoch 3/30\n",
            "1719/1719 [==============================] - 6s 3ms/step - loss: 0.3096 - accuracy: 0.8865 - val_loss: 0.3184 - val_accuracy: 0.8844\n",
            "Epoch 4/30\n",
            "1719/1719 [==============================] - 6s 3ms/step - loss: 0.2895 - accuracy: 0.8930 - val_loss: 0.3396 - val_accuracy: 0.8750\n",
            "Epoch 5/30\n",
            "1719/1719 [==============================] - 6s 3ms/step - loss: 0.2749 - accuracy: 0.8983 - val_loss: 0.3154 - val_accuracy: 0.8850\n",
            "Epoch 6/30\n",
            "1719/1719 [==============================] - 6s 3ms/step - loss: 0.2620 - accuracy: 0.9008 - val_loss: 0.3084 - val_accuracy: 0.8964\n",
            "Epoch 7/30\n",
            "1719/1719 [==============================] - 6s 3ms/step - loss: 0.2513 - accuracy: 0.9051 - val_loss: 0.3418 - val_accuracy: 0.8838\n",
            "Epoch 8/30\n",
            "1719/1719 [==============================] - 6s 3ms/step - loss: 0.2421 - accuracy: 0.9084 - val_loss: 0.2988 - val_accuracy: 0.8914\n",
            "Epoch 9/30\n",
            "1719/1719 [==============================] - 6s 3ms/step - loss: 0.2291 - accuracy: 0.9136 - val_loss: 0.2931 - val_accuracy: 0.8966\n",
            "Epoch 10/30\n",
            "1719/1719 [==============================] - 6s 3ms/step - loss: 0.2230 - accuracy: 0.9168 - val_loss: 0.3021 - val_accuracy: 0.8992\n",
            "Epoch 11/30\n",
            "1719/1719 [==============================] - 6s 3ms/step - loss: 0.2128 - accuracy: 0.9208 - val_loss: 0.3050 - val_accuracy: 0.8950\n",
            "Epoch 12/30\n",
            "1719/1719 [==============================] - 8s 5ms/step - loss: 0.2078 - accuracy: 0.9224 - val_loss: 0.3068 - val_accuracy: 0.8988\n",
            "Epoch 13/30\n",
            "1719/1719 [==============================] - 9s 5ms/step - loss: 0.1988 - accuracy: 0.9247 - val_loss: 0.3245 - val_accuracy: 0.8970\n",
            "Epoch 14/30\n",
            "1719/1719 [==============================] - 6s 3ms/step - loss: 0.1984 - accuracy: 0.9237 - val_loss: 0.3542 - val_accuracy: 0.8936\n",
            "Epoch 15/30\n",
            "1719/1719 [==============================] - 6s 3ms/step - loss: 0.1889 - accuracy: 0.9277 - val_loss: 0.3214 - val_accuracy: 0.8986\n",
            "Epoch 16/30\n",
            "1719/1719 [==============================] - 6s 3ms/step - loss: 0.1834 - accuracy: 0.9302 - val_loss: 0.3277 - val_accuracy: 0.8962\n",
            "Epoch 17/30\n",
            "1719/1719 [==============================] - 6s 3ms/step - loss: 0.1777 - accuracy: 0.9323 - val_loss: 0.3304 - val_accuracy: 0.8976\n",
            "Epoch 18/30\n",
            "1719/1719 [==============================] - 7s 4ms/step - loss: 0.1714 - accuracy: 0.9339 - val_loss: 0.3347 - val_accuracy: 0.9004\n",
            "Epoch 19/30\n",
            "1719/1719 [==============================] - 6s 3ms/step - loss: 0.1675 - accuracy: 0.9355 - val_loss: 0.3510 - val_accuracy: 0.8966\n",
            "Epoch 20/30\n",
            "1719/1719 [==============================] - 7s 4ms/step - loss: 0.1648 - accuracy: 0.9381 - val_loss: 0.3667 - val_accuracy: 0.8974\n",
            "Epoch 21/30\n",
            "1719/1719 [==============================] - 6s 4ms/step - loss: 0.1581 - accuracy: 0.9391 - val_loss: 0.3373 - val_accuracy: 0.9020\n",
            "Epoch 22/30\n",
            "1719/1719 [==============================] - 7s 4ms/step - loss: 0.1539 - accuracy: 0.9411 - val_loss: 0.3960 - val_accuracy: 0.8962\n",
            "Epoch 23/30\n",
            "1719/1719 [==============================] - 6s 3ms/step - loss: 0.1481 - accuracy: 0.9433 - val_loss: 0.4012 - val_accuracy: 0.8936\n",
            "Epoch 24/30\n",
            "1719/1719 [==============================] - 6s 3ms/step - loss: 0.1485 - accuracy: 0.9434 - val_loss: 0.3854 - val_accuracy: 0.8956\n",
            "Epoch 25/30\n",
            "1719/1719 [==============================] - 6s 3ms/step - loss: 0.1432 - accuracy: 0.9451 - val_loss: 0.3854 - val_accuracy: 0.9000\n",
            "Epoch 26/30\n",
            "1719/1719 [==============================] - 6s 3ms/step - loss: 0.1379 - accuracy: 0.9479 - val_loss: 0.3919 - val_accuracy: 0.8958\n",
            "Epoch 27/30\n",
            "1719/1719 [==============================] - 6s 3ms/step - loss: 0.1352 - accuracy: 0.9491 - val_loss: 0.4649 - val_accuracy: 0.8864\n",
            "Epoch 28/30\n",
            "1719/1719 [==============================] - 6s 3ms/step - loss: 0.1326 - accuracy: 0.9493 - val_loss: 0.4557 - val_accuracy: 0.8994\n",
            "Epoch 29/30\n",
            "1719/1719 [==============================] - 6s 3ms/step - loss: 0.1291 - accuracy: 0.9521 - val_loss: 0.4100 - val_accuracy: 0.9000\n",
            "Epoch 30/30\n",
            "1719/1719 [==============================] - 6s 3ms/step - loss: 0.1281 - accuracy: 0.9502 - val_loss: 0.4404 - val_accuracy: 0.8946\n"
          ],
          "name": "stdout"
        }
      ]
    },
    {
      "cell_type": "code",
      "metadata": {
        "colab": {
          "base_uri": "https://localhost:8080/"
        },
        "id": "skpQCqusezcu",
        "outputId": "3377b16a-c116-41af-d758-dd9497cbd130"
      },
      "source": [
        "#History\n",
        "print(\"History Params : \", history_Adam.params)\n",
        "print(\"History Epoch : \", history_Adam.epoch)\n",
        "print(\"History Keys : \" ,history_Adam.history.keys())"
      ],
      "execution_count": 43,
      "outputs": [
        {
          "output_type": "stream",
          "text": [
            "History Params :  {'verbose': 1, 'epochs': 30, 'steps': 1719}\n",
            "History Epoch :  [0, 1, 2, 3, 4, 5, 6, 7, 8, 9, 10, 11, 12, 13, 14, 15, 16, 17, 18, 19, 20, 21, 22, 23, 24, 25, 26, 27, 28, 29]\n",
            "History Keys :  dict_keys(['loss', 'accuracy', 'val_loss', 'val_accuracy'])\n"
          ],
          "name": "stdout"
        }
      ]
    },
    {
      "cell_type": "code",
      "metadata": {
        "colab": {
          "base_uri": "https://localhost:8080/",
          "height": 327
        },
        "id": "D4Lw0eJFe1E4",
        "outputId": "cd31afc8-a254-4d2e-ea58-81a3432d789f"
      },
      "source": [
        "#Learning Curves\n",
        "pd.DataFrame(history_Adam.history).plot(figsize=(8, 5))\n",
        "plt.grid(True)\n",
        "plt.gca().set_ylim(0, 1)\n",
        "plt.show()\n"
      ],
      "execution_count": 44,
      "outputs": [
        {
          "output_type": "display_data",
          "data": {
            "image/png": "[encoded data removed]",
            "text/plain": [
              "<Figure size 576x360 with 1 Axes>"
            ]
          },
          "metadata": {
            "tags": [],
            "needs_background": "light"
          }
        }
      ]
    },
    {
      "cell_type": "code",
      "metadata": {
        "id": "oNivwRAsewVr"
      },
      "source": [
        ""
      ],
      "execution_count": null,
      "outputs": []
    },
    {
      "cell_type": "code",
      "metadata": {
        "id": "wgxCBlD4eOd9"
      },
      "source": [
        "RMSprop optimizer"
      ],
      "execution_count": null,
      "outputs": []
    },
    {
      "cell_type": "code",
      "metadata": {
        "colab": {
          "base_uri": "https://localhost:8080/"
        },
        "id": "Rzmu4OyjdsmJ",
        "outputId": "f8099039-1a40-46b5-a3cb-d086bd4960d6"
      },
      "source": [
        "#Compile the Model\n",
        "model.compile(loss=\"sparse_categorical_crossentropy\",optimizer=\"RMSprop\",metrics=[\"accuracy\"])\n",
        "\n",
        "# Train the Model\n",
        "history_RMSprop = model.fit(X_train, y_train, batch_size=32, epochs=30,validation_data=(X_valid, y_valid))"
      ],
      "execution_count": 45,
      "outputs": [
        {
          "output_type": "stream",
          "text": [
            "Epoch 1/30\n",
            "1719/1719 [==============================] - 8s 5ms/step - loss: 0.1288 - accuracy: 0.9516 - val_loss: 0.5626 - val_accuracy: 0.8932\n",
            "Epoch 2/30\n",
            "1719/1719 [==============================] - 8s 5ms/step - loss: 0.1328 - accuracy: 0.9507 - val_loss: 0.5831 - val_accuracy: 0.8946\n",
            "Epoch 3/30\n",
            "1719/1719 [==============================] - 8s 5ms/step - loss: 0.1393 - accuracy: 0.9501 - val_loss: 0.5998 - val_accuracy: 0.8978\n",
            "Epoch 4/30\n",
            "1719/1719 [==============================] - 8s 5ms/step - loss: 0.1497 - accuracy: 0.9474 - val_loss: 0.6944 - val_accuracy: 0.8922\n",
            "Epoch 5/30\n",
            "1719/1719 [==============================] - 8s 5ms/step - loss: 0.1549 - accuracy: 0.9465 - val_loss: 0.7291 - val_accuracy: 0.8932\n",
            "Epoch 6/30\n",
            "1719/1719 [==============================] - 8s 5ms/step - loss: 0.1599 - accuracy: 0.9457 - val_loss: 0.7674 - val_accuracy: 0.8898\n",
            "Epoch 7/30\n",
            "1719/1719 [==============================] - 8s 5ms/step - loss: 0.1602 - accuracy: 0.9452 - val_loss: 0.7479 - val_accuracy: 0.8880\n",
            "Epoch 8/30\n",
            "1719/1719 [==============================] - 8s 4ms/step - loss: 0.1684 - accuracy: 0.9441 - val_loss: 0.7798 - val_accuracy: 0.8886\n",
            "Epoch 9/30\n",
            "1719/1719 [==============================] - 8s 5ms/step - loss: 0.1687 - accuracy: 0.9441 - val_loss: 0.7883 - val_accuracy: 0.8880\n",
            "Epoch 10/30\n",
            "1719/1719 [==============================] - 8s 5ms/step - loss: 0.1743 - accuracy: 0.9446 - val_loss: 0.9008 - val_accuracy: 0.8816\n",
            "Epoch 11/30\n",
            "1719/1719 [==============================] - 8s 5ms/step - loss: 0.1728 - accuracy: 0.9432 - val_loss: 0.8279 - val_accuracy: 0.8970\n",
            "Epoch 12/30\n",
            "1719/1719 [==============================] - 8s 5ms/step - loss: 0.1771 - accuracy: 0.9436 - val_loss: 0.8559 - val_accuracy: 0.8874\n",
            "Epoch 13/30\n",
            "1719/1719 [==============================] - 8s 5ms/step - loss: 0.1837 - accuracy: 0.9431 - val_loss: 0.8278 - val_accuracy: 0.8894\n",
            "Epoch 14/30\n",
            "1719/1719 [==============================] - 8s 5ms/step - loss: 0.1835 - accuracy: 0.9418 - val_loss: 0.8777 - val_accuracy: 0.8896\n",
            "Epoch 15/30\n",
            "1719/1719 [==============================] - 8s 5ms/step - loss: 0.1806 - accuracy: 0.9427 - val_loss: 0.8963 - val_accuracy: 0.8924\n",
            "Epoch 16/30\n",
            "1719/1719 [==============================] - 8s 5ms/step - loss: 0.1822 - accuracy: 0.9426 - val_loss: 0.9544 - val_accuracy: 0.8882\n",
            "Epoch 17/30\n",
            "1719/1719 [==============================] - 8s 5ms/step - loss: 0.1867 - accuracy: 0.9432 - val_loss: 0.9880 - val_accuracy: 0.8928\n",
            "Epoch 18/30\n",
            "1719/1719 [==============================] - 8s 5ms/step - loss: 0.1841 - accuracy: 0.9434 - val_loss: 0.9564 - val_accuracy: 0.8904\n",
            "Epoch 19/30\n",
            "1719/1719 [==============================] - 8s 5ms/step - loss: 0.1862 - accuracy: 0.9423 - val_loss: 1.0549 - val_accuracy: 0.8916\n",
            "Epoch 20/30\n",
            "1719/1719 [==============================] - 8s 5ms/step - loss: 0.1830 - accuracy: 0.9426 - val_loss: 1.0988 - val_accuracy: 0.8894\n",
            "Epoch 21/30\n",
            "1719/1719 [==============================] - 8s 5ms/step - loss: 0.1819 - accuracy: 0.9431 - val_loss: 1.0671 - val_accuracy: 0.8882\n",
            "Epoch 22/30\n",
            "1719/1719 [==============================] - 8s 5ms/step - loss: 0.1860 - accuracy: 0.9438 - val_loss: 1.0496 - val_accuracy: 0.8938\n",
            "Epoch 23/30\n",
            "1719/1719 [==============================] - 8s 5ms/step - loss: 0.1832 - accuracy: 0.9439 - val_loss: 1.1167 - val_accuracy: 0.8852\n",
            "Epoch 24/30\n",
            "1719/1719 [==============================] - 8s 5ms/step - loss: 0.1820 - accuracy: 0.9452 - val_loss: 1.1223 - val_accuracy: 0.8886\n",
            "Epoch 25/30\n",
            "1719/1719 [==============================] - 8s 5ms/step - loss: 0.1836 - accuracy: 0.9436 - val_loss: 1.2718 - val_accuracy: 0.8840\n",
            "Epoch 26/30\n",
            "1719/1719 [==============================] - 8s 5ms/step - loss: 0.1904 - accuracy: 0.9444 - val_loss: 1.0577 - val_accuracy: 0.8800\n",
            "Epoch 27/30\n",
            "1719/1719 [==============================] - 9s 5ms/step - loss: 0.1907 - accuracy: 0.9441 - val_loss: 1.1115 - val_accuracy: 0.8804\n",
            "Epoch 28/30\n",
            "1719/1719 [==============================] - 8s 5ms/step - loss: 0.1965 - accuracy: 0.9434 - val_loss: 1.2522 - val_accuracy: 0.8952\n",
            "Epoch 29/30\n",
            "1719/1719 [==============================] - 8s 5ms/step - loss: 0.1867 - accuracy: 0.9455 - val_loss: 1.0930 - val_accuracy: 0.8852\n",
            "Epoch 30/30\n",
            "1719/1719 [==============================] - 8s 5ms/step - loss: 0.1824 - accuracy: 0.9464 - val_loss: 1.1986 - val_accuracy: 0.8966\n"
          ],
          "name": "stdout"
        }
      ]
    },
    {
      "cell_type": "code",
      "metadata": {
        "colab": {
          "base_uri": "https://localhost:8080/"
        },
        "id": "c5xyI16Nd6Gb",
        "outputId": "0f16953a-fc8c-4fcf-e298-f2fd507c78e1"
      },
      "source": [
        "#History\n",
        "print(\"History Params : \", history_RMSprop.params)\n",
        "print(\"History Epoch : \", history_RMSprop.epoch)\n",
        "print(\"History Keys : \" ,history_RMSprop.history.keys())"
      ],
      "execution_count": 46,
      "outputs": [
        {
          "output_type": "stream",
          "text": [
            "History Params :  {'verbose': 1, 'epochs': 30, 'steps': 1719}\n",
            "History Epoch :  [0, 1, 2, 3, 4, 5, 6, 7, 8, 9, 10, 11, 12, 13, 14, 15, 16, 17, 18, 19, 20, 21, 22, 23, 24, 25, 26, 27, 28, 29]\n",
            "History Keys :  dict_keys(['loss', 'accuracy', 'val_loss', 'val_accuracy'])\n"
          ],
          "name": "stdout"
        }
      ]
    },
    {
      "cell_type": "code",
      "metadata": {
        "colab": {
          "base_uri": "https://localhost:8080/",
          "height": 327
        },
        "id": "_nHeUT08eYO6",
        "outputId": "1997cdb3-a081-4f6a-bef2-f7d455473a1b"
      },
      "source": [
        "#Learning Curves\n",
        "pd.DataFrame(history_RMSprop.history).plot(figsize=(8, 5))\n",
        "plt.grid(True)\n",
        "plt.gca().set_ylim(0, 1)\n",
        "plt.show()"
      ],
      "execution_count": 47,
      "outputs": [
        {
          "output_type": "display_data",
          "data": {
            "image/png": "[encoded data removed]",
            "text/plain": [
              "<Figure size 576x360 with 1 Axes>"
            ]
          },
          "metadata": {
            "tags": [],
            "needs_background": "light"
          }
        }
      ]
    },
    {
      "cell_type": "markdown",
      "metadata": {
        "id": "quhEdQdVhQkG"
      },
      "source": [
        "2) Plot Learning curves when using different batch size"
      ]
    },
    {
      "cell_type": "markdown",
      "metadata": {
        "id": "ufEdVPcRhXRQ"
      },
      "source": [
        "Batch Size = 100"
      ]
    },
    {
      "cell_type": "code",
      "metadata": {
        "colab": {
          "base_uri": "https://localhost:8080/"
        },
        "id": "KbcWS92deePX",
        "outputId": "ef5d2e74-2e62-4dea-e40a-d9a6b28e18f0"
      },
      "source": [
        "#Compile the Model\n",
        "model.compile(loss=\"sparse_categorical_crossentropy\",optimizer=\"sgd\",metrics=[\"accuracy\"])\n",
        "\n",
        "# Train the Model\n",
        "history_Batch100 = model.fit(X_train, y_train, batch_size=100, epochs=30,validation_data=(X_valid, y_valid))"
      ],
      "execution_count": 48,
      "outputs": [
        {
          "output_type": "stream",
          "text": [
            "Epoch 1/30\n",
            "550/550 [==============================] - 3s 6ms/step - loss: 15.1185 - accuracy: 0.2765 - val_loss: 2.2470 - val_accuracy: 0.2158\n",
            "Epoch 2/30\n",
            "550/550 [==============================] - 3s 5ms/step - loss: 1.7376 - accuracy: 0.3606 - val_loss: 1.3297 - val_accuracy: 0.5260\n",
            "Epoch 3/30\n",
            "550/550 [==============================] - 3s 5ms/step - loss: 1.2027 - accuracy: 0.5803 - val_loss: 1.0899 - val_accuracy: 0.5968\n",
            "Epoch 4/30\n",
            "550/550 [==============================] - 3s 5ms/step - loss: 0.9201 - accuracy: 0.6689 - val_loss: 0.8342 - val_accuracy: 0.7352\n",
            "Epoch 5/30\n",
            "550/550 [==============================] - 3s 5ms/step - loss: 0.7517 - accuracy: 0.7424 - val_loss: 0.6738 - val_accuracy: 0.7998\n",
            "Epoch 6/30\n",
            "550/550 [==============================] - 3s 5ms/step - loss: 0.6453 - accuracy: 0.7813 - val_loss: 0.7884 - val_accuracy: 0.7308\n",
            "Epoch 7/30\n",
            "550/550 [==============================] - 3s 5ms/step - loss: 0.5936 - accuracy: 0.7926 - val_loss: 0.6372 - val_accuracy: 0.7836\n",
            "Epoch 8/30\n",
            "550/550 [==============================] - 3s 5ms/step - loss: 0.5330 - accuracy: 0.8124 - val_loss: 0.8325 - val_accuracy: 0.6928\n",
            "Epoch 9/30\n",
            "550/550 [==============================] - 3s 5ms/step - loss: 0.5195 - accuracy: 0.8175 - val_loss: 0.5458 - val_accuracy: 0.8230\n",
            "Epoch 10/30\n",
            "550/550 [==============================] - 3s 5ms/step - loss: 0.4904 - accuracy: 0.8300 - val_loss: 0.5673 - val_accuracy: 0.8304\n",
            "Epoch 11/30\n",
            "550/550 [==============================] - 3s 5ms/step - loss: 0.4600 - accuracy: 0.8421 - val_loss: 0.5185 - val_accuracy: 0.8348\n",
            "Epoch 12/30\n",
            "550/550 [==============================] - 3s 5ms/step - loss: 0.4381 - accuracy: 0.8483 - val_loss: 0.5444 - val_accuracy: 0.8328\n",
            "Epoch 13/30\n",
            "550/550 [==============================] - 3s 5ms/step - loss: 0.4250 - accuracy: 0.8545 - val_loss: 0.5436 - val_accuracy: 0.8474\n",
            "Epoch 14/30\n",
            "550/550 [==============================] - 3s 5ms/step - loss: 0.3998 - accuracy: 0.8647 - val_loss: 0.5243 - val_accuracy: 0.8530\n",
            "Epoch 15/30\n",
            "550/550 [==============================] - 3s 5ms/step - loss: 0.3962 - accuracy: 0.8643 - val_loss: 0.4923 - val_accuracy: 0.8518\n",
            "Epoch 16/30\n",
            "550/550 [==============================] - 3s 5ms/step - loss: 0.3659 - accuracy: 0.8751 - val_loss: 0.5153 - val_accuracy: 0.8570\n",
            "Epoch 17/30\n",
            "550/550 [==============================] - 3s 5ms/step - loss: 0.3602 - accuracy: 0.8750 - val_loss: 0.5597 - val_accuracy: 0.8148\n",
            "Epoch 18/30\n",
            "550/550 [==============================] - 3s 5ms/step - loss: 0.3374 - accuracy: 0.8834 - val_loss: 0.4755 - val_accuracy: 0.8608\n",
            "Epoch 19/30\n",
            "550/550 [==============================] - 3s 5ms/step - loss: 0.3276 - accuracy: 0.8872 - val_loss: 0.4408 - val_accuracy: 0.8748\n",
            "Epoch 20/30\n",
            "550/550 [==============================] - 3s 5ms/step - loss: 0.3272 - accuracy: 0.8862 - val_loss: 0.4560 - val_accuracy: 0.8694\n",
            "Epoch 21/30\n",
            "550/550 [==============================] - 3s 5ms/step - loss: 0.3152 - accuracy: 0.8903 - val_loss: 0.5672 - val_accuracy: 0.8218\n",
            "Epoch 22/30\n",
            "550/550 [==============================] - 3s 5ms/step - loss: 0.3042 - accuracy: 0.8947 - val_loss: 0.4346 - val_accuracy: 0.8776\n",
            "Epoch 23/30\n",
            "550/550 [==============================] - 3s 5ms/step - loss: 0.3104 - accuracy: 0.8935 - val_loss: 0.4169 - val_accuracy: 0.8752\n",
            "Epoch 24/30\n",
            "550/550 [==============================] - 3s 5ms/step - loss: 0.2898 - accuracy: 0.8973 - val_loss: 0.5358 - val_accuracy: 0.8398\n",
            "Epoch 25/30\n",
            "550/550 [==============================] - 3s 5ms/step - loss: 0.2896 - accuracy: 0.8993 - val_loss: 0.4080 - val_accuracy: 0.8816\n",
            "Epoch 26/30\n",
            "550/550 [==============================] - 3s 5ms/step - loss: 0.2898 - accuracy: 0.8990 - val_loss: 0.4325 - val_accuracy: 0.8758\n",
            "Epoch 27/30\n",
            "550/550 [==============================] - 3s 5ms/step - loss: 0.2810 - accuracy: 0.9013 - val_loss: 0.4410 - val_accuracy: 0.8776\n",
            "Epoch 28/30\n",
            "550/550 [==============================] - 3s 5ms/step - loss: 0.2788 - accuracy: 0.9011 - val_loss: 0.4189 - val_accuracy: 0.8772\n",
            "Epoch 29/30\n",
            "550/550 [==============================] - 3s 5ms/step - loss: 0.2751 - accuracy: 0.9029 - val_loss: 0.4054 - val_accuracy: 0.8792\n",
            "Epoch 30/30\n",
            "550/550 [==============================] - 3s 5ms/step - loss: 0.2634 - accuracy: 0.9067 - val_loss: 0.4084 - val_accuracy: 0.8786\n"
          ],
          "name": "stdout"
        }
      ]
    },
    {
      "cell_type": "code",
      "metadata": {
        "colab": {
          "base_uri": "https://localhost:8080/"
        },
        "id": "JStz0I8NhfzH",
        "outputId": "068525b6-3f2d-4398-db23-95ab2b39b083"
      },
      "source": [
        "#History\n",
        "print(\"History Params : \", history_Batch100.params)\n",
        "print(\"History Epoch : \", history_Batch100.epoch)\n",
        "print(\"History Keys : \" ,history_Batch100.history.keys())"
      ],
      "execution_count": 49,
      "outputs": [
        {
          "output_type": "stream",
          "text": [
            "History Params :  {'verbose': 1, 'epochs': 30, 'steps': 550}\n",
            "History Epoch :  [0, 1, 2, 3, 4, 5, 6, 7, 8, 9, 10, 11, 12, 13, 14, 15, 16, 17, 18, 19, 20, 21, 22, 23, 24, 25, 26, 27, 28, 29]\n",
            "History Keys :  dict_keys(['loss', 'accuracy', 'val_loss', 'val_accuracy'])\n"
          ],
          "name": "stdout"
        }
      ]
    },
    {
      "cell_type": "code",
      "metadata": {
        "colab": {
          "base_uri": "https://localhost:8080/",
          "height": 327
        },
        "id": "1gVOIPgdhkM5",
        "outputId": "f4a8ca67-b54e-49c7-80ec-229d4d281d6e"
      },
      "source": [
        "#Learning Curves\n",
        "pd.DataFrame(history_Batch100.history).plot(figsize=(8, 5))\n",
        "plt.grid(True)\n",
        "plt.gca().set_ylim(0, 1)\n",
        "plt.show()"
      ],
      "execution_count": 50,
      "outputs": [
        {
          "output_type": "display_data",
          "data": {
            "image/png": "[encoded data removed]",
            "text/plain": [
              "<Figure size 576x360 with 1 Axes>"
            ]
          },
          "metadata": {
            "tags": [],
            "needs_background": "light"
          }
        }
      ]
    },
    {
      "cell_type": "markdown",
      "metadata": {
        "id": "3gVWSUcYkecs"
      },
      "source": [
        " Plot Learning curves when using different number of epochs"
      ]
    },
    {
      "cell_type": "markdown",
      "metadata": {
        "id": "FDl_1PaYklOa"
      },
      "source": [
        "Epochs = 10"
      ]
    },
    {
      "cell_type": "code",
      "metadata": {
        "colab": {
          "base_uri": "https://localhost:8080/"
        },
        "id": "cHvqf5ZDhnn6",
        "outputId": "8b500d37-5054-41e3-ac7b-a7364229d400"
      },
      "source": [
        "#Compile the Model\n",
        "model.compile(loss=\"sparse_categorical_crossentropy\",optimizer=\"sgd\",metrics=[\"accuracy\"])\n",
        "\n",
        "# Train the Model\n",
        "history_Epochs10 = model.fit(X_train, y_train, batch_size=32, epochs=10,validation_data=(X_valid, y_valid))"
      ],
      "execution_count": 51,
      "outputs": [
        {
          "output_type": "stream",
          "text": [
            "Epoch 1/10\n",
            "1719/1719 [==============================] - 5s 3ms/step - loss: 0.9384 - accuracy: 0.7192 - val_loss: 0.5747 - val_accuracy: 0.7864\n",
            "Epoch 2/10\n",
            "1719/1719 [==============================] - 5s 3ms/step - loss: 0.5027 - accuracy: 0.8115 - val_loss: 0.7688 - val_accuracy: 0.7210\n",
            "Epoch 3/10\n",
            "1719/1719 [==============================] - 5s 3ms/step - loss: 0.4305 - accuracy: 0.8439 - val_loss: 0.4672 - val_accuracy: 0.8540\n",
            "Epoch 4/10\n",
            "1719/1719 [==============================] - 5s 3ms/step - loss: 0.4049 - accuracy: 0.8555 - val_loss: 0.4084 - val_accuracy: 0.8712\n",
            "Epoch 5/10\n",
            "1719/1719 [==============================] - 5s 3ms/step - loss: 0.3740 - accuracy: 0.8662 - val_loss: 0.4200 - val_accuracy: 0.8700\n",
            "Epoch 6/10\n",
            "1719/1719 [==============================] - 5s 3ms/step - loss: 0.3602 - accuracy: 0.8703 - val_loss: 0.8390 - val_accuracy: 0.7494\n",
            "Epoch 7/10\n",
            "1719/1719 [==============================] - 5s 3ms/step - loss: 0.3521 - accuracy: 0.8744 - val_loss: 0.4086 - val_accuracy: 0.8728\n",
            "Epoch 8/10\n",
            "1719/1719 [==============================] - 5s 3ms/step - loss: 0.3348 - accuracy: 0.8799 - val_loss: 0.4312 - val_accuracy: 0.8682\n",
            "Epoch 9/10\n",
            "1719/1719 [==============================] - 5s 3ms/step - loss: 0.3270 - accuracy: 0.8827 - val_loss: 0.3852 - val_accuracy: 0.8760\n",
            "Epoch 10/10\n",
            "1719/1719 [==============================] - 5s 3ms/step - loss: 0.3246 - accuracy: 0.8836 - val_loss: 0.4868 - val_accuracy: 0.8488\n"
          ],
          "name": "stdout"
        }
      ]
    },
    {
      "cell_type": "code",
      "metadata": {
        "colab": {
          "base_uri": "https://localhost:8080/"
        },
        "id": "uljIZVZllNc9",
        "outputId": "7a505e58-2fb0-4b23-f71c-705bb9b8bb9c"
      },
      "source": [
        "#History\n",
        "print(\"History Params : \", history_Epochs10.params)\n",
        "print(\"History Epoch : \", history_Epochs10.epoch)\n",
        "print(\"History Keys : \" ,history_Epochs10.history.keys())"
      ],
      "execution_count": 52,
      "outputs": [
        {
          "output_type": "stream",
          "text": [
            "History Params :  {'verbose': 1, 'epochs': 10, 'steps': 1719}\n",
            "History Epoch :  [0, 1, 2, 3, 4, 5, 6, 7, 8, 9]\n",
            "History Keys :  dict_keys(['loss', 'accuracy', 'val_loss', 'val_accuracy'])\n"
          ],
          "name": "stdout"
        }
      ]
    },
    {
      "cell_type": "code",
      "metadata": {
        "colab": {
          "base_uri": "https://localhost:8080/",
          "height": 327
        },
        "id": "aWjzSJuUlQBN",
        "outputId": "ccb87da0-d06c-4e6a-91f9-6e46ea962733"
      },
      "source": [
        "#Learning Curves\n",
        "pd.DataFrame(history_Epochs10.history).plot(figsize=(8, 5))\n",
        "plt.grid(True)\n",
        "plt.gca().set_ylim(0, 1)\n",
        "plt.show()"
      ],
      "execution_count": 53,
      "outputs": [
        {
          "output_type": "display_data",
          "data": {
            "image/png": "[encoded data removed]",
            "text/plain": [
              "<Figure size 576x360 with 1 Axes>"
            ]
          },
          "metadata": {
            "tags": [],
            "needs_background": "light"
          }
        }
      ]
    },
    {
      "cell_type": "markdown",
      "metadata": {
        "id": "pvB3MqLWlXCv"
      },
      "source": [
        "Epochs = 50"
      ]
    },
    {
      "cell_type": "code",
      "metadata": {
        "colab": {
          "base_uri": "https://localhost:8080/"
        },
        "id": "nogtPqq2lS93",
        "outputId": "db476e7d-2e58-402d-b209-4201908be8f8"
      },
      "source": [
        "#Compile the Model\n",
        "model.compile(loss=\"sparse_categorical_crossentropy\",optimizer=\"sgd\",metrics=[\"accuracy\"])\n",
        "\n",
        "# Train the Model\n",
        "history_Epochs50 = model.fit(X_train, y_train, batch_size=32, epochs=50,validation_data=(X_valid, y_valid))"
      ],
      "execution_count": 54,
      "outputs": [
        {
          "output_type": "stream",
          "text": [
            "Epoch 1/50\n",
            "1719/1719 [==============================] - 5s 3ms/step - loss: 0.3068 - accuracy: 0.8895 - val_loss: 0.4330 - val_accuracy: 0.8682\n",
            "Epoch 2/50\n",
            "1719/1719 [==============================] - 5s 3ms/step - loss: 0.2976 - accuracy: 0.8917 - val_loss: 0.4233 - val_accuracy: 0.8620\n",
            "Epoch 3/50\n",
            "1719/1719 [==============================] - 5s 3ms/step - loss: 0.2897 - accuracy: 0.8940 - val_loss: 0.4296 - val_accuracy: 0.8560\n",
            "Epoch 4/50\n",
            "1719/1719 [==============================] - 5s 3ms/step - loss: 0.2915 - accuracy: 0.8947 - val_loss: 0.3814 - val_accuracy: 0.8838\n",
            "Epoch 5/50\n",
            "1719/1719 [==============================] - 5s 3ms/step - loss: 0.2792 - accuracy: 0.8958 - val_loss: 0.4076 - val_accuracy: 0.8708\n",
            "Epoch 6/50\n",
            "1719/1719 [==============================] - 5s 3ms/step - loss: 0.2726 - accuracy: 0.9013 - val_loss: 0.3976 - val_accuracy: 0.8820\n",
            "Epoch 7/50\n",
            "1719/1719 [==============================] - 5s 3ms/step - loss: 0.2662 - accuracy: 0.9028 - val_loss: 0.3654 - val_accuracy: 0.8856\n",
            "Epoch 8/50\n",
            "1719/1719 [==============================] - 5s 3ms/step - loss: 0.2627 - accuracy: 0.9036 - val_loss: 0.3821 - val_accuracy: 0.8824\n",
            "Epoch 9/50\n",
            "1719/1719 [==============================] - 5s 3ms/step - loss: 0.2617 - accuracy: 0.9049 - val_loss: 0.4166 - val_accuracy: 0.8778\n",
            "Epoch 10/50\n",
            "1719/1719 [==============================] - 5s 3ms/step - loss: 0.2566 - accuracy: 0.9051 - val_loss: 0.4773 - val_accuracy: 0.8600\n",
            "Epoch 11/50\n",
            "1719/1719 [==============================] - 4s 3ms/step - loss: 0.2510 - accuracy: 0.9074 - val_loss: 0.3750 - val_accuracy: 0.8902\n",
            "Epoch 12/50\n",
            "1719/1719 [==============================] - 4s 3ms/step - loss: 0.2457 - accuracy: 0.9092 - val_loss: 0.3756 - val_accuracy: 0.8854\n",
            "Epoch 13/50\n",
            "1719/1719 [==============================] - 5s 3ms/step - loss: 0.2444 - accuracy: 0.9099 - val_loss: 0.3780 - val_accuracy: 0.8920\n",
            "Epoch 14/50\n",
            "1719/1719 [==============================] - 5s 3ms/step - loss: 0.2416 - accuracy: 0.9108 - val_loss: 0.4588 - val_accuracy: 0.8696\n",
            "Epoch 15/50\n",
            "1719/1719 [==============================] - 4s 3ms/step - loss: 0.2446 - accuracy: 0.9095 - val_loss: 0.3813 - val_accuracy: 0.8870\n",
            "Epoch 16/50\n",
            "1719/1719 [==============================] - 4s 3ms/step - loss: 0.2327 - accuracy: 0.9147 - val_loss: 0.5128 - val_accuracy: 0.8544\n",
            "Epoch 17/50\n",
            "1719/1719 [==============================] - 4s 3ms/step - loss: 0.2307 - accuracy: 0.9164 - val_loss: 0.4157 - val_accuracy: 0.8796\n",
            "Epoch 18/50\n",
            "1719/1719 [==============================] - 5s 3ms/step - loss: 0.2291 - accuracy: 0.9159 - val_loss: 0.4273 - val_accuracy: 0.8772\n",
            "Epoch 19/50\n",
            "1719/1719 [==============================] - 5s 3ms/step - loss: 0.2322 - accuracy: 0.9139 - val_loss: 0.3766 - val_accuracy: 0.8908\n",
            "Epoch 20/50\n",
            "1719/1719 [==============================] - 5s 3ms/step - loss: 0.2288 - accuracy: 0.9163 - val_loss: 0.3738 - val_accuracy: 0.8928\n",
            "Epoch 21/50\n",
            "1719/1719 [==============================] - 5s 3ms/step - loss: 0.2257 - accuracy: 0.9176 - val_loss: 0.4077 - val_accuracy: 0.8812\n",
            "Epoch 22/50\n",
            "1719/1719 [==============================] - 4s 3ms/step - loss: 0.2213 - accuracy: 0.9184 - val_loss: 0.4734 - val_accuracy: 0.8702\n",
            "Epoch 23/50\n",
            "1719/1719 [==============================] - 4s 3ms/step - loss: 0.2211 - accuracy: 0.9199 - val_loss: 0.3848 - val_accuracy: 0.8850\n",
            "Epoch 24/50\n",
            "1719/1719 [==============================] - 5s 3ms/step - loss: 0.2166 - accuracy: 0.9204 - val_loss: 0.3690 - val_accuracy: 0.8928\n",
            "Epoch 25/50\n",
            "1719/1719 [==============================] - 5s 3ms/step - loss: 0.2150 - accuracy: 0.9220 - val_loss: 0.4319 - val_accuracy: 0.8764\n",
            "Epoch 26/50\n",
            "1719/1719 [==============================] - 5s 3ms/step - loss: 0.2108 - accuracy: 0.9218 - val_loss: 0.3755 - val_accuracy: 0.8908\n",
            "Epoch 27/50\n",
            "1719/1719 [==============================] - 5s 3ms/step - loss: 0.2087 - accuracy: 0.9231 - val_loss: 0.3790 - val_accuracy: 0.8926\n",
            "Epoch 28/50\n",
            "1719/1719 [==============================] - 4s 3ms/step - loss: 0.2065 - accuracy: 0.9241 - val_loss: 0.3867 - val_accuracy: 0.8868\n",
            "Epoch 29/50\n",
            "1719/1719 [==============================] - 5s 3ms/step - loss: 0.2058 - accuracy: 0.9237 - val_loss: 0.4644 - val_accuracy: 0.8742\n",
            "Epoch 30/50\n",
            "1719/1719 [==============================] - 4s 3ms/step - loss: 0.2054 - accuracy: 0.9248 - val_loss: 0.3704 - val_accuracy: 0.8918\n",
            "Epoch 31/50\n",
            "1719/1719 [==============================] - 4s 3ms/step - loss: 0.2030 - accuracy: 0.9263 - val_loss: 0.4356 - val_accuracy: 0.8752\n",
            "Epoch 32/50\n",
            "1719/1719 [==============================] - 4s 3ms/step - loss: 0.2007 - accuracy: 0.9257 - val_loss: 0.3737 - val_accuracy: 0.8924\n",
            "Epoch 33/50\n",
            "1719/1719 [==============================] - 5s 3ms/step - loss: 0.1983 - accuracy: 0.9276 - val_loss: 0.3777 - val_accuracy: 0.8918\n",
            "Epoch 34/50\n",
            "1719/1719 [==============================] - 5s 3ms/step - loss: 0.1993 - accuracy: 0.9268 - val_loss: 0.4499 - val_accuracy: 0.8776\n",
            "Epoch 35/50\n",
            "1719/1719 [==============================] - 4s 3ms/step - loss: 0.1950 - accuracy: 0.9294 - val_loss: 0.3788 - val_accuracy: 0.8874\n",
            "Epoch 36/50\n",
            "1719/1719 [==============================] - 4s 3ms/step - loss: 0.1930 - accuracy: 0.9296 - val_loss: 0.6351 - val_accuracy: 0.8230\n",
            "Epoch 37/50\n",
            "1719/1719 [==============================] - 4s 3ms/step - loss: 0.1931 - accuracy: 0.9287 - val_loss: 0.4636 - val_accuracy: 0.8830\n",
            "Epoch 38/50\n",
            "1719/1719 [==============================] - 4s 3ms/step - loss: 0.1884 - accuracy: 0.9311 - val_loss: 0.3766 - val_accuracy: 0.8912\n",
            "Epoch 39/50\n",
            "1719/1719 [==============================] - 5s 3ms/step - loss: 0.1887 - accuracy: 0.9312 - val_loss: 0.4010 - val_accuracy: 0.8816\n",
            "Epoch 40/50\n",
            "1719/1719 [==============================] - 5s 3ms/step - loss: 0.1879 - accuracy: 0.9317 - val_loss: 0.4039 - val_accuracy: 0.8854\n",
            "Epoch 41/50\n",
            "1719/1719 [==============================] - 5s 3ms/step - loss: 0.1837 - accuracy: 0.9325 - val_loss: 0.3772 - val_accuracy: 0.8904\n",
            "Epoch 42/50\n",
            "1719/1719 [==============================] - 5s 3ms/step - loss: 0.1866 - accuracy: 0.9322 - val_loss: 0.4023 - val_accuracy: 0.8870\n",
            "Epoch 43/50\n",
            "1719/1719 [==============================] - 5s 3ms/step - loss: 0.1819 - accuracy: 0.9330 - val_loss: 0.4318 - val_accuracy: 0.8860\n",
            "Epoch 44/50\n",
            "1719/1719 [==============================] - 5s 3ms/step - loss: 0.1818 - accuracy: 0.9336 - val_loss: 0.3996 - val_accuracy: 0.8852\n",
            "Epoch 45/50\n",
            "1719/1719 [==============================] - 5s 3ms/step - loss: 0.1807 - accuracy: 0.9336 - val_loss: 0.3700 - val_accuracy: 0.8908\n",
            "Epoch 46/50\n",
            "1719/1719 [==============================] - 5s 3ms/step - loss: 0.1765 - accuracy: 0.9355 - val_loss: 0.3695 - val_accuracy: 0.8970\n",
            "Epoch 47/50\n",
            "1719/1719 [==============================] - 5s 3ms/step - loss: 0.1751 - accuracy: 0.9360 - val_loss: 0.3798 - val_accuracy: 0.8940\n",
            "Epoch 48/50\n",
            "1719/1719 [==============================] - 4s 3ms/step - loss: 0.1750 - accuracy: 0.9351 - val_loss: 0.3665 - val_accuracy: 0.8942\n",
            "Epoch 49/50\n",
            "1719/1719 [==============================] - 5s 3ms/step - loss: 0.1731 - accuracy: 0.9373 - val_loss: 0.4287 - val_accuracy: 0.8816\n",
            "Epoch 50/50\n",
            "1719/1719 [==============================] - 4s 3ms/step - loss: 0.1710 - accuracy: 0.9374 - val_loss: 0.3841 - val_accuracy: 0.8938\n"
          ],
          "name": "stdout"
        }
      ]
    },
    {
      "cell_type": "code",
      "metadata": {
        "colab": {
          "base_uri": "https://localhost:8080/"
        },
        "id": "vJ2P5RoUldb3",
        "outputId": "715df3a9-c13e-470d-8b7a-54ed09654b6f"
      },
      "source": [
        "#History\n",
        "print(\"History Params : \", history_Epochs50.params)\n",
        "print(\"History Epoch : \", history_Epochs50.epoch)\n",
        "print(\"History Keys : \" ,history_Epochs50.history.keys())"
      ],
      "execution_count": 55,
      "outputs": [
        {
          "output_type": "stream",
          "text": [
            "History Params :  {'verbose': 1, 'epochs': 50, 'steps': 1719}\n",
            "History Epoch :  [0, 1, 2, 3, 4, 5, 6, 7, 8, 9, 10, 11, 12, 13, 14, 15, 16, 17, 18, 19, 20, 21, 22, 23, 24, 25, 26, 27, 28, 29, 30, 31, 32, 33, 34, 35, 36, 37, 38, 39, 40, 41, 42, 43, 44, 45, 46, 47, 48, 49]\n",
            "History Keys :  dict_keys(['loss', 'accuracy', 'val_loss', 'val_accuracy'])\n"
          ],
          "name": "stdout"
        }
      ]
    },
    {
      "cell_type": "code",
      "metadata": {
        "colab": {
          "base_uri": "https://localhost:8080/",
          "height": 327
        },
        "id": "V8r3kpUXlhf8",
        "outputId": "f18f2a2b-4bc0-4d96-c150-21a4b5f23038"
      },
      "source": [
        "#Learning Curves\n",
        "pd.DataFrame(history_Epochs50.history).plot(figsize=(8, 5))\n",
        "plt.grid(True)\n",
        "plt.gca().set_ylim(0, 1)\n",
        "plt.show()"
      ],
      "execution_count": 56,
      "outputs": [
        {
          "output_type": "display_data",
          "data": {
            "image/png": "[encoded data removed]",
            "text/plain": [
              "<Figure size 576x360 with 1 Axes>"
            ]
          },
          "metadata": {
            "tags": [],
            "needs_background": "light"
          }
        }
      ]
    },
    {
      "cell_type": "markdown",
      "metadata": {
        "id": "-4d2jHvVlqHK"
      },
      "source": [
        "Add additional neurons & Use Dropout Layer"
      ]
    },
    {
      "cell_type": "code",
      "metadata": {
        "colab": {
          "base_uri": "https://localhost:8080/"
        },
        "id": "ZYdON8hUllHi",
        "outputId": "bd6cf734-1292-4d71-aac5-c80192369ca5"
      },
      "source": [
        "# Construct the Model\n",
        "model_dropout = keras.models.Sequential()\n",
        "model_dropout.add(keras.layers.Flatten(input_shape=[28, 28]))\n",
        "model_dropout.add(keras.layers.Dense(300, activation=\"relu\"))\n",
        "model_dropout.add(keras.layers.Dropout(0.2))\n",
        "model_dropout.add(keras.layers.Dense(200, activation=\"relu\"))\n",
        "model_dropout.add(keras.layers.Dropout(0.2))\n",
        "model_dropout.add(keras.layers.Dense(100, activation=\"relu\"))\n",
        "model_dropout.add(keras.layers.Dropout(0.2))\n",
        "model_dropout.add(keras.layers.Dense(50, activation=\"relu\"))\n",
        "model_dropout.add(keras.layers.Dense(10, activation=\"softmax\"))\n",
        "#Layers\n",
        "model_dropout.layers\n",
        "#Compile the Model\n",
        "model_dropout.compile(loss=\"sparse_categorical_crossentropy\", optimizer=\"sgd\", metrics=[\"accuracy\"])\n",
        "# Train the Model\n",
        "history_dropout = model_dropout.fit(X_train, y_train, batch_size=32, epochs=30,validation_data=(X_valid, y_valid))"
      ],
      "execution_count": 57,
      "outputs": [
        {
          "output_type": "stream",
          "text": [
            "Epoch 1/30\n",
            "1719/1719 [==============================] - 6s 3ms/step - loss: 0.9954 - accuracy: 0.6331 - val_loss: 0.5477 - val_accuracy: 0.8050\n",
            "Epoch 2/30\n",
            "1719/1719 [==============================] - 6s 4ms/step - loss: 0.5812 - accuracy: 0.7921 - val_loss: 0.4496 - val_accuracy: 0.8386\n",
            "Epoch 3/30\n",
            "1719/1719 [==============================] - 6s 4ms/step - loss: 0.5056 - accuracy: 0.8198 - val_loss: 0.4126 - val_accuracy: 0.8506\n",
            "Epoch 4/30\n",
            "1719/1719 [==============================] - 6s 4ms/step - loss: 0.4655 - accuracy: 0.8337 - val_loss: 0.3843 - val_accuracy: 0.8624\n",
            "Epoch 5/30\n",
            "1719/1719 [==============================] - 6s 4ms/step - loss: 0.4385 - accuracy: 0.8418 - val_loss: 0.3800 - val_accuracy: 0.8642\n",
            "Epoch 6/30\n",
            "1719/1719 [==============================] - 6s 4ms/step - loss: 0.4184 - accuracy: 0.8502 - val_loss: 0.3550 - val_accuracy: 0.8728\n",
            "Epoch 7/30\n",
            "1719/1719 [==============================] - 6s 4ms/step - loss: 0.4007 - accuracy: 0.8567 - val_loss: 0.3515 - val_accuracy: 0.8746\n",
            "Epoch 8/30\n",
            "1719/1719 [==============================] - 6s 4ms/step - loss: 0.3844 - accuracy: 0.8604 - val_loss: 0.3454 - val_accuracy: 0.8772\n",
            "Epoch 9/30\n",
            "1719/1719 [==============================] - 6s 4ms/step - loss: 0.3742 - accuracy: 0.8657 - val_loss: 0.3367 - val_accuracy: 0.8788\n",
            "Epoch 10/30\n",
            "1719/1719 [==============================] - 6s 4ms/step - loss: 0.3673 - accuracy: 0.8679 - val_loss: 0.3284 - val_accuracy: 0.8814\n",
            "Epoch 11/30\n",
            "1719/1719 [==============================] - 6s 4ms/step - loss: 0.3567 - accuracy: 0.8722 - val_loss: 0.3265 - val_accuracy: 0.8834\n",
            "Epoch 12/30\n",
            "1719/1719 [==============================] - 6s 4ms/step - loss: 0.3488 - accuracy: 0.8740 - val_loss: 0.3156 - val_accuracy: 0.8838\n",
            "Epoch 13/30\n",
            "1719/1719 [==============================] - 6s 4ms/step - loss: 0.3393 - accuracy: 0.8764 - val_loss: 0.3173 - val_accuracy: 0.8896\n",
            "Epoch 14/30\n",
            "1719/1719 [==============================] - 6s 4ms/step - loss: 0.3330 - accuracy: 0.8777 - val_loss: 0.3227 - val_accuracy: 0.8824\n",
            "Epoch 15/30\n",
            "1719/1719 [==============================] - 6s 4ms/step - loss: 0.3252 - accuracy: 0.8827 - val_loss: 0.3147 - val_accuracy: 0.8854\n",
            "Epoch 16/30\n",
            "1719/1719 [==============================] - 6s 4ms/step - loss: 0.3201 - accuracy: 0.8841 - val_loss: 0.3142 - val_accuracy: 0.8910\n",
            "Epoch 17/30\n",
            "1719/1719 [==============================] - 6s 4ms/step - loss: 0.3147 - accuracy: 0.8859 - val_loss: 0.3083 - val_accuracy: 0.8890\n",
            "Epoch 18/30\n",
            "1719/1719 [==============================] - 6s 4ms/step - loss: 0.3072 - accuracy: 0.8889 - val_loss: 0.3076 - val_accuracy: 0.8884\n",
            "Epoch 19/30\n",
            "1719/1719 [==============================] - 6s 4ms/step - loss: 0.3042 - accuracy: 0.8887 - val_loss: 0.3020 - val_accuracy: 0.8932\n",
            "Epoch 20/30\n",
            "1719/1719 [==============================] - 6s 4ms/step - loss: 0.2981 - accuracy: 0.8903 - val_loss: 0.3049 - val_accuracy: 0.8888\n",
            "Epoch 21/30\n",
            "1719/1719 [==============================] - 6s 4ms/step - loss: 0.2951 - accuracy: 0.8913 - val_loss: 0.3073 - val_accuracy: 0.8914\n",
            "Epoch 22/30\n",
            "1719/1719 [==============================] - 6s 4ms/step - loss: 0.2922 - accuracy: 0.8928 - val_loss: 0.3185 - val_accuracy: 0.8870\n",
            "Epoch 23/30\n",
            "1719/1719 [==============================] - 6s 4ms/step - loss: 0.2840 - accuracy: 0.8949 - val_loss: 0.3093 - val_accuracy: 0.8914\n",
            "Epoch 24/30\n",
            "1719/1719 [==============================] - 6s 4ms/step - loss: 0.2814 - accuracy: 0.8969 - val_loss: 0.2981 - val_accuracy: 0.8942\n",
            "Epoch 25/30\n",
            "1719/1719 [==============================] - 6s 4ms/step - loss: 0.2788 - accuracy: 0.8968 - val_loss: 0.2979 - val_accuracy: 0.8944\n",
            "Epoch 26/30\n",
            "1719/1719 [==============================] - 6s 4ms/step - loss: 0.2737 - accuracy: 0.8994 - val_loss: 0.2976 - val_accuracy: 0.8930\n",
            "Epoch 27/30\n",
            "1719/1719 [==============================] - 6s 4ms/step - loss: 0.2700 - accuracy: 0.9020 - val_loss: 0.2994 - val_accuracy: 0.8952\n",
            "Epoch 28/30\n",
            "1719/1719 [==============================] - 6s 4ms/step - loss: 0.2650 - accuracy: 0.9015 - val_loss: 0.2863 - val_accuracy: 0.8980\n",
            "Epoch 29/30\n",
            "1719/1719 [==============================] - 6s 4ms/step - loss: 0.2635 - accuracy: 0.9028 - val_loss: 0.2938 - val_accuracy: 0.8936\n",
            "Epoch 30/30\n",
            "1719/1719 [==============================] - 6s 4ms/step - loss: 0.2581 - accuracy: 0.9050 - val_loss: 0.2982 - val_accuracy: 0.8924\n"
          ],
          "name": "stdout"
        }
      ]
    },
    {
      "cell_type": "code",
      "metadata": {
        "colab": {
          "base_uri": "https://localhost:8080/"
        },
        "id": "DYUR-xxel2hL",
        "outputId": "97e6cfcc-ec09-440d-f30c-c9113b1bdc83"
      },
      "source": [
        "#History\n",
        "print(\"History Params : \", history_dropout.params)\n",
        "print(\"History Epoch : \", history_dropout.epoch)\n",
        "print(\"History Keys : \" ,history_dropout.history.keys())"
      ],
      "execution_count": 58,
      "outputs": [
        {
          "output_type": "stream",
          "text": [
            "History Params :  {'verbose': 1, 'epochs': 30, 'steps': 1719}\n",
            "History Epoch :  [0, 1, 2, 3, 4, 5, 6, 7, 8, 9, 10, 11, 12, 13, 14, 15, 16, 17, 18, 19, 20, 21, 22, 23, 24, 25, 26, 27, 28, 29]\n",
            "History Keys :  dict_keys(['loss', 'accuracy', 'val_loss', 'val_accuracy'])\n"
          ],
          "name": "stdout"
        }
      ]
    },
    {
      "cell_type": "code",
      "metadata": {
        "colab": {
          "base_uri": "https://localhost:8080/",
          "height": 327
        },
        "id": "OFoqzmXdl6zV",
        "outputId": "419d145f-d5f0-42a8-d0a8-0f9bb254201c"
      },
      "source": [
        "#Learning Curves\n",
        "pd.DataFrame(history_dropout.history).plot(figsize=(8, 5))\n",
        "plt.grid(True)\n",
        "plt.gca().set_ylim(0, 1)\n",
        "plt.show()"
      ],
      "execution_count": 59,
      "outputs": [
        {
          "output_type": "display_data",
          "data": {
            "image/png": "[encoded data removed]",
            "text/plain": [
              "<Figure size 576x360 with 1 Axes>"
            ]
          },
          "metadata": {
            "tags": [],
            "needs_background": "light"
          }
        }
      ]
    },
    {
      "cell_type": "markdown",
      "metadata": {
        "id": "uVnxWqY_mBZ2"
      },
      "source": [
        "Use Batch Normalisation"
      ]
    },
    {
      "cell_type": "code",
      "metadata": {
        "id": "AMsNm7iPl-RF"
      },
      "source": [
        "# Construct the Model\n",
        "model_batchNorm = keras.models.Sequential()\n",
        "model_batchNorm.add(keras.layers.Flatten(input_shape=[28, 28]))\n",
        "\n",
        "model_batchNorm.add(keras.layers.Dense(300, activation=\"relu\"))\n",
        "model_batchNorm.add(keras.layers.Dropout(0.2))\n",
        "model_batchNorm.add(keras.layers.Dense(200, activation=\"relu\"))\n",
        "model_batchNorm.add(keras.layers.Dropout(0.2))\n",
        "model_batchNorm.add(keras.layers.Dense(100, activation=\"relu\"))\n",
        "model_batchNorm.add(keras.layers.Dropout(0.2))\n",
        "model_batchNorm.add(keras.layers.Dense(50, activation=\"relu\"))\n",
        "\n",
        "model_batchNorm.add(keras.layers.BatchNormalization())\n",
        "\n",
        "model_batchNorm.add(keras.layers.Dense(10, activation=\"softmax\"))\n"
      ],
      "execution_count": 60,
      "outputs": []
    },
    {
      "cell_type": "code",
      "metadata": {
        "colab": {
          "base_uri": "https://localhost:8080/"
        },
        "id": "N-kdJ3PQmpqB",
        "outputId": "70f007df-2979-4598-f93b-18bcc2b338b2"
      },
      "source": [
        "#Compile the Model\n",
        "model_batchNorm.compile(loss='categorical_crossentropy', optimizer='sgd',metrics=['accuracy'])\n",
        "\n",
        "# Train the Model\n",
        "history_batchNorm= model_dropout.fit(X_train, y_train, batch_size=32, epochs=30,validation_data=(X_valid, y_valid))"
      ],
      "execution_count": 61,
      "outputs": [
        {
          "output_type": "stream",
          "text": [
            "Epoch 1/30\n",
            "1719/1719 [==============================] - 6s 4ms/step - loss: 0.2575 - accuracy: 0.9040 - val_loss: 0.2884 - val_accuracy: 0.8976\n",
            "Epoch 2/30\n",
            "1719/1719 [==============================] - 6s 4ms/step - loss: 0.2516 - accuracy: 0.9077 - val_loss: 0.2952 - val_accuracy: 0.8938\n",
            "Epoch 3/30\n",
            "1719/1719 [==============================] - 6s 4ms/step - loss: 0.2490 - accuracy: 0.9073 - val_loss: 0.2893 - val_accuracy: 0.9032\n",
            "Epoch 4/30\n",
            "1719/1719 [==============================] - 6s 4ms/step - loss: 0.2472 - accuracy: 0.9072 - val_loss: 0.2826 - val_accuracy: 0.9008\n",
            "Epoch 5/30\n",
            "1719/1719 [==============================] - 6s 4ms/step - loss: 0.2442 - accuracy: 0.9098 - val_loss: 0.3014 - val_accuracy: 0.8952\n",
            "Epoch 6/30\n",
            "1719/1719 [==============================] - 6s 4ms/step - loss: 0.2438 - accuracy: 0.9093 - val_loss: 0.2887 - val_accuracy: 0.8966\n",
            "Epoch 7/30\n",
            "1719/1719 [==============================] - 7s 4ms/step - loss: 0.2383 - accuracy: 0.9118 - val_loss: 0.2909 - val_accuracy: 0.9022\n",
            "Epoch 8/30\n",
            "1719/1719 [==============================] - 6s 4ms/step - loss: 0.2367 - accuracy: 0.9106 - val_loss: 0.2908 - val_accuracy: 0.8982\n",
            "Epoch 9/30\n",
            "1719/1719 [==============================] - 6s 4ms/step - loss: 0.2315 - accuracy: 0.9143 - val_loss: 0.2846 - val_accuracy: 0.9012\n",
            "Epoch 10/30\n",
            "1719/1719 [==============================] - 6s 4ms/step - loss: 0.2291 - accuracy: 0.9144 - val_loss: 0.2929 - val_accuracy: 0.8968\n",
            "Epoch 11/30\n",
            "1719/1719 [==============================] - 6s 4ms/step - loss: 0.2281 - accuracy: 0.9165 - val_loss: 0.2979 - val_accuracy: 0.8958\n",
            "Epoch 12/30\n",
            "1719/1719 [==============================] - 6s 4ms/step - loss: 0.2245 - accuracy: 0.9175 - val_loss: 0.2935 - val_accuracy: 0.8988\n",
            "Epoch 13/30\n",
            "1719/1719 [==============================] - 6s 4ms/step - loss: 0.2215 - accuracy: 0.9174 - val_loss: 0.2874 - val_accuracy: 0.9004\n",
            "Epoch 14/30\n",
            "1719/1719 [==============================] - 6s 4ms/step - loss: 0.2202 - accuracy: 0.9191 - val_loss: 0.3004 - val_accuracy: 0.9002\n",
            "Epoch 15/30\n",
            "1719/1719 [==============================] - 6s 4ms/step - loss: 0.2205 - accuracy: 0.9175 - val_loss: 0.2972 - val_accuracy: 0.8964\n",
            "Epoch 16/30\n",
            "1719/1719 [==============================] - 7s 4ms/step - loss: 0.2162 - accuracy: 0.9188 - val_loss: 0.2837 - val_accuracy: 0.9024\n",
            "Epoch 17/30\n",
            "1719/1719 [==============================] - 7s 4ms/step - loss: 0.2128 - accuracy: 0.9212 - val_loss: 0.2914 - val_accuracy: 0.8968\n",
            "Epoch 18/30\n",
            "1719/1719 [==============================] - 7s 4ms/step - loss: 0.2113 - accuracy: 0.9221 - val_loss: 0.2876 - val_accuracy: 0.9038\n",
            "Epoch 19/30\n",
            "1719/1719 [==============================] - 7s 4ms/step - loss: 0.2099 - accuracy: 0.9218 - val_loss: 0.2888 - val_accuracy: 0.8994\n",
            "Epoch 20/30\n",
            "1719/1719 [==============================] - 6s 4ms/step - loss: 0.2072 - accuracy: 0.9223 - val_loss: 0.2975 - val_accuracy: 0.8990\n",
            "Epoch 21/30\n",
            "1719/1719 [==============================] - 6s 4ms/step - loss: 0.2054 - accuracy: 0.9237 - val_loss: 0.2961 - val_accuracy: 0.8980\n",
            "Epoch 22/30\n",
            "1719/1719 [==============================] - 6s 4ms/step - loss: 0.2036 - accuracy: 0.9236 - val_loss: 0.2905 - val_accuracy: 0.8996\n",
            "Epoch 23/30\n",
            "1719/1719 [==============================] - 6s 4ms/step - loss: 0.2011 - accuracy: 0.9252 - val_loss: 0.2908 - val_accuracy: 0.9010\n",
            "Epoch 24/30\n",
            "1719/1719 [==============================] - 6s 4ms/step - loss: 0.2019 - accuracy: 0.9238 - val_loss: 0.2938 - val_accuracy: 0.9004\n",
            "Epoch 25/30\n",
            "1719/1719 [==============================] - 6s 4ms/step - loss: 0.1960 - accuracy: 0.9276 - val_loss: 0.3080 - val_accuracy: 0.8986\n",
            "Epoch 26/30\n",
            "1719/1719 [==============================] - 6s 4ms/step - loss: 0.1959 - accuracy: 0.9262 - val_loss: 0.2833 - val_accuracy: 0.9022\n",
            "Epoch 27/30\n",
            "1719/1719 [==============================] - 6s 4ms/step - loss: 0.1940 - accuracy: 0.9278 - val_loss: 0.2928 - val_accuracy: 0.9014\n",
            "Epoch 28/30\n",
            "1719/1719 [==============================] - 6s 4ms/step - loss: 0.1921 - accuracy: 0.9269 - val_loss: 0.2933 - val_accuracy: 0.8988\n",
            "Epoch 29/30\n",
            "1719/1719 [==============================] - 6s 4ms/step - loss: 0.1918 - accuracy: 0.9285 - val_loss: 0.2975 - val_accuracy: 0.9006\n",
            "Epoch 30/30\n",
            "1719/1719 [==============================] - 6s 4ms/step - loss: 0.1902 - accuracy: 0.9291 - val_loss: 0.2877 - val_accuracy: 0.9004\n"
          ],
          "name": "stdout"
        }
      ]
    },
    {
      "cell_type": "code",
      "metadata": {
        "colab": {
          "base_uri": "https://localhost:8080/"
        },
        "id": "_FOMk0SPmsKP",
        "outputId": "cb532223-4f2f-4828-ad47-21c9e5307d36"
      },
      "source": [
        "#History\n",
        "print(\"History Params : \", history_batchNorm.params)\n",
        "print(\"History Epoch : \", history_batchNorm.epoch)\n",
        "print(\"History Keys : \" ,history_batchNorm.history.keys())"
      ],
      "execution_count": 62,
      "outputs": [
        {
          "output_type": "stream",
          "text": [
            "History Params :  {'verbose': 1, 'epochs': 30, 'steps': 1719}\n",
            "History Epoch :  [0, 1, 2, 3, 4, 5, 6, 7, 8, 9, 10, 11, 12, 13, 14, 15, 16, 17, 18, 19, 20, 21, 22, 23, 24, 25, 26, 27, 28, 29]\n",
            "History Keys :  dict_keys(['loss', 'accuracy', 'val_loss', 'val_accuracy'])\n"
          ],
          "name": "stdout"
        }
      ]
    },
    {
      "cell_type": "code",
      "metadata": {
        "colab": {
          "base_uri": "https://localhost:8080/",
          "height": 327
        },
        "id": "j6Etlr6vm3H-",
        "outputId": "5b08cefd-4b39-46b7-eef8-4667d4c0ae68"
      },
      "source": [
        "#Learning Curves\n",
        "pd.DataFrame(history_batchNorm.history).plot(figsize=(8, 5))\n",
        "plt.grid(True)\n",
        "plt.gca().set_ylim(0, 1)\n",
        "plt.show()"
      ],
      "execution_count": 63,
      "outputs": [
        {
          "output_type": "display_data",
          "data": {
            "image/png": "[encoded data removed]",
            "text/plain": [
              "<Figure size 576x360 with 1 Axes>"
            ]
          },
          "metadata": {
            "tags": [],
            "needs_background": "light"
          }
        }
      ]
    },
    {
      "cell_type": "markdown",
      "metadata": {
        "id": "wifFiuB5nlDX"
      },
      "source": [
        "4) repeat with more layers"
      ]
    },
    {
      "cell_type": "code",
      "metadata": {
        "id": "Ap8XEnCOnmZC"
      },
      "source": [
        "# Construct the Model\n",
        "\n",
        "model_newModel = keras.models.Sequential()\n",
        "model_newModel.add(keras.layers.Flatten(input_shape=[28, 28]))\n",
        "\n",
        "model_newModel.add(keras.layers.Dense(300, activation=\"relu\"))\n",
        "model_newModel.add(keras.layers.Dropout(0.2))\n",
        "model_newModel.add(keras.layers.Dense(250, activation=\"relu\"))\n",
        "model_newModel.add(keras.layers.Dropout(0.2))\n",
        "model_newModel.add(keras.layers.Dense(200, activation=\"relu\"))\n",
        "model_newModel.add(keras.layers.Dropout(0.2))\n",
        "model_newModel.add(keras.layers.Dense(150, activation=\"relu\"))\n",
        "model_newModel.add(keras.layers.Dropout(0.2))\n",
        "model_newModel.add(keras.layers.Dense(100, activation=\"relu\"))\n",
        "model_newModel.add(keras.layers.Dropout(0.2))\n",
        "model_newModel.add(keras.layers.Dense(50, activation=\"relu\"))\n",
        "\n",
        "model_newModel.add(keras.layers.BatchNormalization())\n",
        "\n",
        "model_newModel.add(keras.layers.Dense(10, activation=\"softmax\"))\n"
      ],
      "execution_count": 64,
      "outputs": []
    },
    {
      "cell_type": "code",
      "metadata": {
        "colab": {
          "base_uri": "https://localhost:8080/"
        },
        "id": "zcV0i_TJn2re",
        "outputId": "7ff99833-b28c-4fcc-fb4b-26b68aa76924"
      },
      "source": [
        "model_newModel.layers"
      ],
      "execution_count": 65,
      "outputs": [
        {
          "output_type": "execute_result",
          "data": {
            "text/plain": [
              "[<tensorflow.python.keras.layers.core.Flatten at 0x7fb62a2b99b0>,\n",
              " <tensorflow.python.keras.layers.core.Dense at 0x7fb62a4b5390>,\n",
              " <tensorflow.python.keras.layers.core.Dropout at 0x7fb62a4b5d30>,\n",
              " <tensorflow.python.keras.layers.core.Dense at 0x7fb62a4b5da0>,\n",
              " <tensorflow.python.keras.layers.core.Dropout at 0x7fb62a4f4e48>,\n",
              " <tensorflow.python.keras.layers.core.Dense at 0x7fb62a4c8630>,\n",
              " <tensorflow.python.keras.layers.core.Dropout at 0x7fb62a5d1710>,\n",
              " <tensorflow.python.keras.layers.core.Dense at 0x7fb62a4ecba8>,\n",
              " <tensorflow.python.keras.layers.core.Dropout at 0x7fb62a5e6940>,\n",
              " <tensorflow.python.keras.layers.core.Dense at 0x7fb62a5b5748>,\n",
              " <tensorflow.python.keras.layers.core.Dropout at 0x7fb62a5b9b70>,\n",
              " <tensorflow.python.keras.layers.core.Dense at 0x7fb62a5e7978>,\n",
              " <tensorflow.python.keras.layers.normalization_v2.BatchNormalization at 0x7fb62a5cddd8>,\n",
              " <tensorflow.python.keras.layers.core.Dense at 0x7fb62a5cdda0>]"
            ]
          },
          "metadata": {
            "tags": []
          },
          "execution_count": 65
        }
      ]
    },
    {
      "cell_type": "code",
      "metadata": {
        "colab": {
          "base_uri": "https://localhost:8080/"
        },
        "id": "-D1Vc4ZZo6N9",
        "outputId": "399b6172-d26d-4b7c-f5b5-78080e6580b9"
      },
      "source": [
        "#Compile the Model\n",
        "model_newModel.compile(loss=\"sparse_categorical_crossentropy\",optimizer=\"sgd\",metrics=[\"accuracy\"])\n",
        "\n",
        "# Train the Model\n",
        "history_newModel= model_newModel.fit(X_train, y_train, batch_size=32, epochs=30,validation_data=(X_valid, y_valid))"
      ],
      "execution_count": 66,
      "outputs": [
        {
          "output_type": "stream",
          "text": [
            "Epoch 1/30\n",
            "1719/1719 [==============================] - 9s 5ms/step - loss: 0.9235 - accuracy: 0.6712 - val_loss: 0.4846 - val_accuracy: 0.8314\n",
            "Epoch 2/30\n",
            "1719/1719 [==============================] - 9s 5ms/step - loss: 0.5908 - accuracy: 0.7965 - val_loss: 0.4024 - val_accuracy: 0.8594\n",
            "Epoch 3/30\n",
            "1719/1719 [==============================] - 9s 5ms/step - loss: 0.5195 - accuracy: 0.8209 - val_loss: 0.4023 - val_accuracy: 0.8596\n",
            "Epoch 4/30\n",
            "1719/1719 [==============================] - 9s 5ms/step - loss: 0.4776 - accuracy: 0.8347 - val_loss: 0.3723 - val_accuracy: 0.8690\n",
            "Epoch 5/30\n",
            "1719/1719 [==============================] - 9s 5ms/step - loss: 0.4514 - accuracy: 0.8428 - val_loss: 0.3649 - val_accuracy: 0.8724\n",
            "Epoch 6/30\n",
            "1719/1719 [==============================] - 9s 5ms/step - loss: 0.4290 - accuracy: 0.8519 - val_loss: 0.3452 - val_accuracy: 0.8794\n",
            "Epoch 7/30\n",
            "1719/1719 [==============================] - 9s 5ms/step - loss: 0.4104 - accuracy: 0.8575 - val_loss: 0.3426 - val_accuracy: 0.8798\n",
            "Epoch 8/30\n",
            "1719/1719 [==============================] - 9s 5ms/step - loss: 0.3958 - accuracy: 0.8628 - val_loss: 0.3380 - val_accuracy: 0.8820\n",
            "Epoch 9/30\n",
            "1719/1719 [==============================] - 9s 5ms/step - loss: 0.3848 - accuracy: 0.8667 - val_loss: 0.3313 - val_accuracy: 0.8838\n",
            "Epoch 10/30\n",
            "1719/1719 [==============================] - 9s 5ms/step - loss: 0.3744 - accuracy: 0.8682 - val_loss: 0.3281 - val_accuracy: 0.8858\n",
            "Epoch 11/30\n",
            "1719/1719 [==============================] - 9s 5ms/step - loss: 0.3681 - accuracy: 0.8718 - val_loss: 0.3245 - val_accuracy: 0.8836\n",
            "Epoch 12/30\n",
            "1719/1719 [==============================] - 9s 5ms/step - loss: 0.3587 - accuracy: 0.8760 - val_loss: 0.3372 - val_accuracy: 0.8812\n",
            "Epoch 13/30\n",
            "1719/1719 [==============================] - 9s 5ms/step - loss: 0.3499 - accuracy: 0.8778 - val_loss: 0.3153 - val_accuracy: 0.8906\n",
            "Epoch 14/30\n",
            "1719/1719 [==============================] - 9s 5ms/step - loss: 0.3437 - accuracy: 0.8795 - val_loss: 0.3225 - val_accuracy: 0.8854\n",
            "Epoch 15/30\n",
            "1719/1719 [==============================] - 9s 5ms/step - loss: 0.3379 - accuracy: 0.8814 - val_loss: 0.3197 - val_accuracy: 0.8880\n",
            "Epoch 16/30\n",
            "1719/1719 [==============================] - 9s 5ms/step - loss: 0.3308 - accuracy: 0.8840 - val_loss: 0.3383 - val_accuracy: 0.8844\n",
            "Epoch 17/30\n",
            "1719/1719 [==============================] - 9s 5ms/step - loss: 0.3261 - accuracy: 0.8846 - val_loss: 0.3145 - val_accuracy: 0.8918\n",
            "Epoch 18/30\n",
            "1719/1719 [==============================] - 10s 6ms/step - loss: 0.3199 - accuracy: 0.8862 - val_loss: 0.3164 - val_accuracy: 0.8890\n",
            "Epoch 19/30\n",
            "1719/1719 [==============================] - 9s 5ms/step - loss: 0.3171 - accuracy: 0.8881 - val_loss: 0.3255 - val_accuracy: 0.8872\n",
            "Epoch 20/30\n",
            "1719/1719 [==============================] - 9s 5ms/step - loss: 0.3118 - accuracy: 0.8902 - val_loss: 0.3201 - val_accuracy: 0.8874\n",
            "Epoch 21/30\n",
            "1719/1719 [==============================] - 9s 5ms/step - loss: 0.3085 - accuracy: 0.8914 - val_loss: 0.3093 - val_accuracy: 0.8944\n",
            "Epoch 22/30\n",
            "1719/1719 [==============================] - 9s 5ms/step - loss: 0.3061 - accuracy: 0.8923 - val_loss: 0.3173 - val_accuracy: 0.8904\n",
            "Epoch 23/30\n",
            "1719/1719 [==============================] - 9s 5ms/step - loss: 0.3009 - accuracy: 0.8950 - val_loss: 0.3005 - val_accuracy: 0.8962\n",
            "Epoch 24/30\n",
            "1719/1719 [==============================] - 9s 5ms/step - loss: 0.2964 - accuracy: 0.8955 - val_loss: 0.3350 - val_accuracy: 0.8812\n",
            "Epoch 25/30\n",
            "1719/1719 [==============================] - 9s 5ms/step - loss: 0.2919 - accuracy: 0.8969 - val_loss: 0.2971 - val_accuracy: 0.8966\n",
            "Epoch 26/30\n",
            "1719/1719 [==============================] - 9s 5ms/step - loss: 0.2905 - accuracy: 0.8987 - val_loss: 0.3170 - val_accuracy: 0.8930\n",
            "Epoch 27/30\n",
            "1719/1719 [==============================] - 10s 6ms/step - loss: 0.2857 - accuracy: 0.8982 - val_loss: 0.3029 - val_accuracy: 0.8920\n",
            "Epoch 28/30\n",
            "1719/1719 [==============================] - 9s 5ms/step - loss: 0.2835 - accuracy: 0.8995 - val_loss: 0.3089 - val_accuracy: 0.8940\n",
            "Epoch 29/30\n",
            "1719/1719 [==============================] - 9s 5ms/step - loss: 0.2789 - accuracy: 0.9013 - val_loss: 0.3106 - val_accuracy: 0.8894\n",
            "Epoch 30/30\n",
            "1719/1719 [==============================] - 9s 5ms/step - loss: 0.2781 - accuracy: 0.9032 - val_loss: 0.3105 - val_accuracy: 0.8928\n"
          ],
          "name": "stdout"
        }
      ]
    },
    {
      "cell_type": "code",
      "metadata": {
        "colab": {
          "base_uri": "https://localhost:8080/"
        },
        "id": "nZqbdOXFnvax",
        "outputId": "17f2ba6f-d9ff-4bc8-e812-c8e95188a4eb"
      },
      "source": [
        "#History\n",
        "print(\"History Params : \", history_newModel.params)\n",
        "print(\"History Epoch : \", history_newModel.epoch)\n",
        "print(\"History Keys : \" ,history_newModel.history.keys())"
      ],
      "execution_count": 67,
      "outputs": [
        {
          "output_type": "stream",
          "text": [
            "History Params :  {'verbose': 1, 'epochs': 30, 'steps': 1719}\n",
            "History Epoch :  [0, 1, 2, 3, 4, 5, 6, 7, 8, 9, 10, 11, 12, 13, 14, 15, 16, 17, 18, 19, 20, 21, 22, 23, 24, 25, 26, 27, 28, 29]\n",
            "History Keys :  dict_keys(['loss', 'accuracy', 'val_loss', 'val_accuracy'])\n"
          ],
          "name": "stdout"
        }
      ]
    },
    {
      "cell_type": "code",
      "metadata": {
        "colab": {
          "base_uri": "https://localhost:8080/",
          "height": 327
        },
        "id": "V5yiYUp_o5bp",
        "outputId": "a810f4bf-3384-449b-c7ff-2d94ed8934e3"
      },
      "source": [
        "#Learning Curves\n",
        "pd.DataFrame(history_newModel.history).plot(figsize=(8, 5))\n",
        "plt.grid(True)\n",
        "plt.gca().set_ylim(0, 1)\n",
        "plt.show()"
      ],
      "execution_count": 68,
      "outputs": [
        {
          "output_type": "display_data",
          "data": {
            "image/png": "[encoded data removed]",
            "text/plain": [
              "<Figure size 576x360 with 1 Axes>"
            ]
          },
          "metadata": {
            "tags": [],
            "needs_background": "light"
          }
        }
      ]
    },
    {
      "cell_type": "markdown",
      "metadata": {
        "id": "nIj51PIIqWdW"
      },
      "source": [
        "5-Apply on Different Datasets"
      ]
    },
    {
      "cell_type": "markdown",
      "metadata": {
        "id": "9_R9aloxqgpw"
      },
      "source": [
        "Dataset"
      ]
    },
    {
      "cell_type": "code",
      "metadata": {
        "colab": {
          "base_uri": "https://localhost:8080/"
        },
        "id": "qvBijc7Dqfxa",
        "outputId": "c5f0c6fe-ef0d-4587-d4e9-dd134e70175b"
      },
      "source": [
        "from keras.datasets import mnist\n",
        "\n",
        "    # DataLoader (The MNIST handwritten digits dataset)\n",
        "mnist = keras.datasets.mnist\n",
        "    # Process the data and split into a training and test set\n",
        "(X_train_full, y_train_full), (X_test, y_test) = mnist.load_data()\n",
        "\n",
        "print(\"The training set \", X_train_full.shape) #The training set contains 60 000 grayscale images, each 28x28 pixels\n",
        "print(\"The test set \",X_test.shape) #The test set contains 10 000 grayscale images, each 28x28 pixels\n",
        "\n",
        "print(\"~~~~~~~~~~~~~~~~~~~~~~~~~~~~~~~~~~~~~~~\")\n",
        "\n",
        "#The full training set is splitted into a validation set and a (smaller) training set. We also scale the pixel intensities down to the 0-1 range and convert them to floats, by dividing by 255.\n",
        "X_valid, X_train = X_train_full[:5000] / 255., X_train_full[5000:] / 255.\n",
        "y_valid, y_train = y_train_full[:5000], y_train_full[5000:]\n",
        "X_test = X_test / 255.\n",
        "\n",
        "print(\"The validation set \",X_valid.shape) #The test set contains 5 000 grayscale images, each 28x28 pixels\n",
        "print(\"The training set \",X_train.shape) #The test set contains 55 000 grayscale images, each 28x28 pixels\n"
      ],
      "execution_count": 69,
      "outputs": [
        {
          "output_type": "stream",
          "text": [
            "Downloading data from https://storage.googleapis.com/tensorflow/tf-keras-datasets/mnist.npz\n",
            "11493376/11490434 [==============================] - 0s 0us/step\n",
            "The training set  (60000, 28, 28)\n",
            "The test set  (10000, 28, 28)\n",
            "~~~~~~~~~~~~~~~~~~~~~~~~~~~~~~~~~~~~~~~\n",
            "The validation set  (5000, 28, 28)\n",
            "The training set  (55000, 28, 28)\n"
          ],
          "name": "stdout"
        }
      ]
    },
    {
      "cell_type": "code",
      "metadata": {
        "colab": {
          "base_uri": "https://localhost:8080/",
          "height": 132
        },
        "id": "XM0hygbEnwuA",
        "outputId": "f93467c5-06a8-4995-8e30-460e4df77420"
      },
      "source": [
        "#Display Images\n",
        "\n",
        "plt.subplots(figsize=(5, 5))\n",
        "plt.subplot(231)\n",
        "plt.title('Training Set')\n",
        "plt.imshow(X_train[44], cmap=\"binary\")\n",
        "plt.xticks([]), plt.yticks([])\n",
        "\n",
        "plt.subplot(232)\n",
        "plt.title('Validation Set')\n",
        "plt.imshow(X_valid[44], cmap=\"binary\")\n",
        "plt.xticks([]), plt.yticks([])\n",
        "        \n",
        "plt.subplot(233)\n",
        "plt.title('Test Set')\n",
        "plt.imshow(X_test[44], cmap=\"binary\")\n",
        "plt.xticks([]), plt.yticks([])\n",
        "\n",
        "plt.show()"
      ],
      "execution_count": 70,
      "outputs": [
        {
          "output_type": "display_data",
          "data": {
            "image/png": "[encoded data removed]",
            "text/plain": [
              "<Figure size 360x360 with 3 Axes>"
            ]
          },
          "metadata": {
            "tags": []
          }
        }
      ]
    },
    {
      "cell_type": "code",
      "metadata": {
        "colab": {
          "base_uri": "https://localhost:8080/"
        },
        "id": "dOeIdQaFq2Bz",
        "outputId": "71ad080c-7bbe-4746-9401-dcb06e7aad61"
      },
      "source": [
        "class_names = [\"0\", \"1\", \"2\", \"3\", \"4\",\"5\", \"6\", \"7\", \"8\", \"9\"]\n",
        "\n",
        "#Training Set\n",
        "print(\"Class name of the training image : \",class_names[y_train[44]])\n",
        "#Validation Set\n",
        "print(\"Class name of the validation image : \",class_names[y_valid[44]])\n",
        "#Test Set\n",
        "print(\"Class name of the test image : \",class_names[y_test[44]])"
      ],
      "execution_count": 71,
      "outputs": [
        {
          "output_type": "stream",
          "text": [
            "Class name of the training image :  9\n",
            "Class name of the validation image :  3\n",
            "Class name of the test image :  3\n"
          ],
          "name": "stdout"
        }
      ]
    },
    {
      "cell_type": "code",
      "metadata": {
        "colab": {
          "base_uri": "https://localhost:8080/",
          "height": 307
        },
        "id": "abgbJuZnrBH1",
        "outputId": "3ce45529-aaf9-4a29-d08d-f72a2101fe2a"
      },
      "source": [
        "#Training\n",
        "\n",
        "n_rows = 4\n",
        "n_cols = 10\n",
        "plt.figure(figsize=(n_cols * 1.2, n_rows * 1.2))\n",
        "for row in range(n_rows):\n",
        "    for col in range(n_cols):\n",
        "        index = n_cols * row + col\n",
        "        plt.subplot(n_rows, n_cols, index + 1)\n",
        "        plt.imshow(X_train[index], cmap=\"binary\", interpolation=\"nearest\")\n",
        "        plt.axis('off')\n",
        "        plt.title(class_names[y_train[index]], fontsize=12)\n",
        "plt.subplots_adjust(wspace=0.1, hspace=0.5)\n",
        "plt.show()"
      ],
      "execution_count": 72,
      "outputs": [
        {
          "output_type": "display_data",
          "data": {
            "image/png": "[encoded data removed]",
            "text/plain": [
              "<Figure size 864x345.6 with 40 Axes>"
            ]
          },
          "metadata": {
            "tags": [],
            "needs_background": "light"
          }
        }
      ]
    },
    {
      "cell_type": "code",
      "metadata": {
        "colab": {
          "base_uri": "https://localhost:8080/",
          "height": 307
        },
        "id": "Fg_AGaZprGVH",
        "outputId": "4c3ea54d-2e3a-4673-b96d-f2e46fe7d1f8"
      },
      "source": [
        "#Validation\n",
        "n_rows = 4\n",
        "n_cols = 10\n",
        "plt.figure(figsize=(n_cols * 1.2, n_rows * 1.2))\n",
        "for row in range(n_rows):\n",
        "    for col in range(n_cols):\n",
        "        index = n_cols * row + col\n",
        "        plt.subplot(n_rows, n_cols, index + 1)\n",
        "        plt.imshow(X_valid[index], cmap=\"binary\", interpolation=\"nearest\")\n",
        "        plt.axis('off')\n",
        "        plt.title(class_names[y_valid[index]], fontsize=12)\n",
        "plt.subplots_adjust(wspace=0.1, hspace=0.5)\n",
        "plt.show()"
      ],
      "execution_count": 73,
      "outputs": [
        {
          "output_type": "display_data",
          "data": {
            "image/png": "[encoded data removed]",
            "text/plain": [
              "<Figure size 864x345.6 with 40 Axes>"
            ]
          },
          "metadata": {
            "tags": [],
            "needs_background": "light"
          }
        }
      ]
    },
    {
      "cell_type": "code",
      "metadata": {
        "colab": {
          "base_uri": "https://localhost:8080/",
          "height": 307
        },
        "id": "kHpSAm17rMIA",
        "outputId": "3cacee8e-1f6c-4d5e-9f23-37d8de0fd3f1"
      },
      "source": [
        "#Test\n",
        "n_rows = 4\n",
        "n_cols = 10\n",
        "plt.figure(figsize=(n_cols * 1.2, n_rows * 1.2))\n",
        "for row in range(n_rows):\n",
        "    for col in range(n_cols):\n",
        "        index = n_cols * row + col\n",
        "        plt.subplot(n_rows, n_cols, index + 1)\n",
        "        plt.imshow(X_test[index], cmap=\"binary\", interpolation=\"nearest\")\n",
        "        plt.axis('off')\n",
        "        plt.title(class_names[y_test[index]], fontsize=12)\n",
        "plt.subplots_adjust(wspace=0.1, hspace=0.5)\n",
        "plt.show()"
      ],
      "execution_count": 74,
      "outputs": [
        {
          "output_type": "display_data",
          "data": {
            "image/png": "[encoded data removed]",
            "text/plain": [
              "<Figure size 864x345.6 with 40 Axes>"
            ]
          },
          "metadata": {
            "tags": [],
            "needs_background": "light"
          }
        }
      ]
    },
    {
      "cell_type": "code",
      "metadata": {
        "id": "YpK1A_berNgY"
      },
      "source": [
        "#Construct the Model\n",
        "#The Model\n",
        "handwritten_model = keras.models.Sequential()\n",
        "handwritten_model.add(keras.layers.Flatten(input_shape=[28, 28]))\n",
        "handwritten_model.add(keras.layers.Dense(300, activation=\"relu\"))\n",
        "handwritten_model.add(keras.layers.Dropout(0.2))\n",
        "handwritten_model.add(keras.layers.Dense(200, activation=\"relu\"))\n",
        "handwritten_model.add(keras.layers.Dropout(0.2))\n",
        "handwritten_model.add(keras.layers.Dense(100, activation=\"relu\"))\n",
        "\n",
        "handwritten_model.add(keras.layers.BatchNormalization())\n",
        "\n",
        "handwritten_model.add(keras.layers.Dense(10, activation=\"softmax\"))"
      ],
      "execution_count": 75,
      "outputs": []
    },
    {
      "cell_type": "code",
      "metadata": {
        "colab": {
          "base_uri": "https://localhost:8080/"
        },
        "id": "I02r_ZvprZYi",
        "outputId": "50d645a2-04d9-4717-cab6-7a2523631771"
      },
      "source": [
        "#Layers\n",
        "handwritten_model.layers"
      ],
      "execution_count": 76,
      "outputs": [
        {
          "output_type": "execute_result",
          "data": {
            "text/plain": [
              "[<tensorflow.python.keras.layers.core.Flatten at 0x7fb617a5f668>,\n",
              " <tensorflow.python.keras.layers.core.Dense at 0x7fb629e6dc88>,\n",
              " <tensorflow.python.keras.layers.core.Dropout at 0x7fb617a96940>,\n",
              " <tensorflow.python.keras.layers.core.Dense at 0x7fb617a96898>,\n",
              " <tensorflow.python.keras.layers.core.Dropout at 0x7fb61769d668>,\n",
              " <tensorflow.python.keras.layers.core.Dense at 0x7fb617670f98>,\n",
              " <tensorflow.python.keras.layers.normalization_v2.BatchNormalization at 0x7fb61769a358>,\n",
              " <tensorflow.python.keras.layers.core.Dense at 0x7fb61766ccf8>]"
            ]
          },
          "metadata": {
            "tags": []
          },
          "execution_count": 76
        }
      ]
    },
    {
      "cell_type": "code",
      "metadata": {
        "colab": {
          "base_uri": "https://localhost:8080/"
        },
        "id": "FaH6kHbhrdbW",
        "outputId": "6e863367-28c2-42e0-8014-1625ae2f039d"
      },
      "source": [
        "#Summary\n",
        "handwritten_model.summary()"
      ],
      "execution_count": 77,
      "outputs": [
        {
          "output_type": "stream",
          "text": [
            "Model: \"sequential_4\"\n",
            "_________________________________________________________________\n",
            "Layer (type)                 Output Shape              Param #   \n",
            "=================================================================\n",
            "flatten_4 (Flatten)          (None, 784)               0         \n",
            "_________________________________________________________________\n",
            "dense_20 (Dense)             (None, 300)               235500    \n",
            "_________________________________________________________________\n",
            "dropout_11 (Dropout)         (None, 300)               0         \n",
            "_________________________________________________________________\n",
            "dense_21 (Dense)             (None, 200)               60200     \n",
            "_________________________________________________________________\n",
            "dropout_12 (Dropout)         (None, 200)               0         \n",
            "_________________________________________________________________\n",
            "dense_22 (Dense)             (None, 100)               20100     \n",
            "_________________________________________________________________\n",
            "batch_normalization_2 (Batch (None, 100)               400       \n",
            "_________________________________________________________________\n",
            "dense_23 (Dense)             (None, 10)                1010      \n",
            "=================================================================\n",
            "Total params: 317,210\n",
            "Trainable params: 317,010\n",
            "Non-trainable params: 200\n",
            "_________________________________________________________________\n"
          ],
          "name": "stdout"
        }
      ]
    },
    {
      "cell_type": "code",
      "metadata": {
        "colab": {
          "base_uri": "https://localhost:8080/"
        },
        "id": "7__DjGg9rjtp",
        "outputId": "0a7dad1e-e94b-44df-8118-ed7ae1ed6f18"
      },
      "source": [
        "hidden1 = handwritten_model.layers[1]\n",
        "print(\"Hidden1 : \",hidden1.name)\n",
        "\n",
        "print(\"~~~~~~~~~~~~~~~~~~~~~~~~~~\")\n",
        "print(handwritten_model.get_layer(hidden1.name) is hidden1)\n",
        "print(\"~~~~~~~~~~~~~~~~~~~~~~~~~~\")\n",
        "weights, biases = hidden1.get_weights()\n",
        "print(\"Weights :  \\n\", weights)\n",
        "print(\" ------> Weights Shape : \", weights.shape)\n",
        "print(\"~~~~~~~~~~~~~~~~~~~~~~~~~~\")\n",
        "print(\"Biases :  \\n\", biases)\n",
        "print(\" ------>Biases Shape : \", biases.shape)"
      ],
      "execution_count": 78,
      "outputs": [
        {
          "output_type": "stream",
          "text": [
            "Hidden1 :  dense_20\n",
            "~~~~~~~~~~~~~~~~~~~~~~~~~~\n",
            "True\n",
            "~~~~~~~~~~~~~~~~~~~~~~~~~~\n",
            "Weights :  \n",
            " [[-0.04392263 -0.06577382 -0.03843642 ... -0.01744064  0.03870136\n",
            "  -0.04082885]\n",
            " [-0.05797825 -0.0113107   0.0687445  ... -0.03350001  0.03807572\n",
            "  -0.0727481 ]\n",
            " [-0.04769695  0.05008739  0.07232083 ...  0.02933696  0.00637676\n",
            "   0.04706422]\n",
            " ...\n",
            " [-0.046614   -0.01614274 -0.00543226 ... -0.02282996 -0.00893468\n",
            "   0.0656036 ]\n",
            " [-0.0385914   0.04712157 -0.07287815 ...  0.06980266 -0.01728987\n",
            "  -0.04939836]\n",
            " [ 0.03066116  0.07269771 -0.03328489 ...  0.01830909 -0.00731388\n",
            "  -0.00464242]]\n",
            " ------> Weights Shape :  (784, 300)\n",
            "~~~~~~~~~~~~~~~~~~~~~~~~~~\n",
            "Biases :  \n",
            " [0. 0. 0. 0. 0. 0. 0. 0. 0. 0. 0. 0. 0. 0. 0. 0. 0. 0. 0. 0. 0. 0. 0. 0.\n",
            " 0. 0. 0. 0. 0. 0. 0. 0. 0. 0. 0. 0. 0. 0. 0. 0. 0. 0. 0. 0. 0. 0. 0. 0.\n",
            " 0. 0. 0. 0. 0. 0. 0. 0. 0. 0. 0. 0. 0. 0. 0. 0. 0. 0. 0. 0. 0. 0. 0. 0.\n",
            " 0. 0. 0. 0. 0. 0. 0. 0. 0. 0. 0. 0. 0. 0. 0. 0. 0. 0. 0. 0. 0. 0. 0. 0.\n",
            " 0. 0. 0. 0. 0. 0. 0. 0. 0. 0. 0. 0. 0. 0. 0. 0. 0. 0. 0. 0. 0. 0. 0. 0.\n",
            " 0. 0. 0. 0. 0. 0. 0. 0. 0. 0. 0. 0. 0. 0. 0. 0. 0. 0. 0. 0. 0. 0. 0. 0.\n",
            " 0. 0. 0. 0. 0. 0. 0. 0. 0. 0. 0. 0. 0. 0. 0. 0. 0. 0. 0. 0. 0. 0. 0. 0.\n",
            " 0. 0. 0. 0. 0. 0. 0. 0. 0. 0. 0. 0. 0. 0. 0. 0. 0. 0. 0. 0. 0. 0. 0. 0.\n",
            " 0. 0. 0. 0. 0. 0. 0. 0. 0. 0. 0. 0. 0. 0. 0. 0. 0. 0. 0. 0. 0. 0. 0. 0.\n",
            " 0. 0. 0. 0. 0. 0. 0. 0. 0. 0. 0. 0. 0. 0. 0. 0. 0. 0. 0. 0. 0. 0. 0. 0.\n",
            " 0. 0. 0. 0. 0. 0. 0. 0. 0. 0. 0. 0. 0. 0. 0. 0. 0. 0. 0. 0. 0. 0. 0. 0.\n",
            " 0. 0. 0. 0. 0. 0. 0. 0. 0. 0. 0. 0. 0. 0. 0. 0. 0. 0. 0. 0. 0. 0. 0. 0.\n",
            " 0. 0. 0. 0. 0. 0. 0. 0. 0. 0. 0. 0.]\n",
            " ------>Biases Shape :  (300,)\n"
          ],
          "name": "stdout"
        }
      ]
    },
    {
      "cell_type": "markdown",
      "metadata": {
        "id": "8bDTZeWawpiU"
      },
      "source": [
        ""
      ]
    },
    {
      "cell_type": "code",
      "metadata": {
        "id": "cBM-7MD0xdMC"
      },
      "source": [
        "#The Loss Function, The Optimizer, The Performance Metric\n",
        "handwritten_model.compile(loss=\"sparse_categorical_crossentropy\", optimizer=\"sgd\", metrics=[\"accuracy\"])"
      ],
      "execution_count": 79,
      "outputs": []
    },
    {
      "cell_type": "code",
      "metadata": {
        "colab": {
          "base_uri": "https://localhost:8080/"
        },
        "id": "9_evBUQMrzdm",
        "outputId": "e60f0eed-625c-475c-f833-8b8ebc87d3c5"
      },
      "source": [
        "#Train the Mode\n",
        "#Batch Size, Epochs\n",
        "handwritten_history = handwritten_model.fit(X_train, y_train, batch_size=32, epochs=30,validation_data=(X_valid, y_valid))"
      ],
      "execution_count": 80,
      "outputs": [
        {
          "output_type": "stream",
          "text": [
            "Epoch 1/30\n",
            "1719/1719 [==============================] - 7s 4ms/step - loss: 0.4868 - accuracy: 0.8495 - val_loss: 0.1823 - val_accuracy: 0.9454\n",
            "Epoch 2/30\n",
            "1719/1719 [==============================] - 6s 4ms/step - loss: 0.2429 - accuracy: 0.9280 - val_loss: 0.1332 - val_accuracy: 0.9618\n",
            "Epoch 3/30\n",
            "1719/1719 [==============================] - 6s 4ms/step - loss: 0.1855 - accuracy: 0.9454 - val_loss: 0.1119 - val_accuracy: 0.9662\n",
            "Epoch 4/30\n",
            "1719/1719 [==============================] - 6s 4ms/step - loss: 0.1545 - accuracy: 0.9540 - val_loss: 0.0975 - val_accuracy: 0.9702\n",
            "Epoch 5/30\n",
            "1719/1719 [==============================] - 6s 4ms/step - loss: 0.1362 - accuracy: 0.9583 - val_loss: 0.0916 - val_accuracy: 0.9736\n",
            "Epoch 6/30\n",
            "1719/1719 [==============================] - 6s 4ms/step - loss: 0.1161 - accuracy: 0.9650 - val_loss: 0.0850 - val_accuracy: 0.9744\n",
            "Epoch 7/30\n",
            "1719/1719 [==============================] - 6s 4ms/step - loss: 0.1058 - accuracy: 0.9675 - val_loss: 0.0836 - val_accuracy: 0.9758\n",
            "Epoch 8/30\n",
            "1719/1719 [==============================] - 6s 4ms/step - loss: 0.0993 - accuracy: 0.9692 - val_loss: 0.0775 - val_accuracy: 0.9780\n",
            "Epoch 9/30\n",
            "1719/1719 [==============================] - 6s 4ms/step - loss: 0.0886 - accuracy: 0.9728 - val_loss: 0.0740 - val_accuracy: 0.9794\n",
            "Epoch 10/30\n",
            "1719/1719 [==============================] - 6s 4ms/step - loss: 0.0828 - accuracy: 0.9741 - val_loss: 0.0718 - val_accuracy: 0.9800\n",
            "Epoch 11/30\n",
            "1719/1719 [==============================] - 6s 4ms/step - loss: 0.0749 - accuracy: 0.9765 - val_loss: 0.0691 - val_accuracy: 0.9814\n",
            "Epoch 12/30\n",
            "1719/1719 [==============================] - 6s 4ms/step - loss: 0.0698 - accuracy: 0.9776 - val_loss: 0.0697 - val_accuracy: 0.9822\n",
            "Epoch 13/30\n",
            "1719/1719 [==============================] - 6s 4ms/step - loss: 0.0651 - accuracy: 0.9794 - val_loss: 0.0705 - val_accuracy: 0.9812\n",
            "Epoch 14/30\n",
            "1719/1719 [==============================] - 6s 4ms/step - loss: 0.0610 - accuracy: 0.9806 - val_loss: 0.0689 - val_accuracy: 0.9814\n",
            "Epoch 15/30\n",
            "1719/1719 [==============================] - 6s 4ms/step - loss: 0.0599 - accuracy: 0.9805 - val_loss: 0.0679 - val_accuracy: 0.9824\n",
            "Epoch 16/30\n",
            "1719/1719 [==============================] - 6s 4ms/step - loss: 0.0526 - accuracy: 0.9835 - val_loss: 0.0662 - val_accuracy: 0.9820\n",
            "Epoch 17/30\n",
            "1719/1719 [==============================] - 6s 4ms/step - loss: 0.0511 - accuracy: 0.9834 - val_loss: 0.0679 - val_accuracy: 0.9814\n",
            "Epoch 18/30\n",
            "1719/1719 [==============================] - 6s 4ms/step - loss: 0.0480 - accuracy: 0.9843 - val_loss: 0.0683 - val_accuracy: 0.9816\n",
            "Epoch 19/30\n",
            "1719/1719 [==============================] - 7s 4ms/step - loss: 0.0440 - accuracy: 0.9853 - val_loss: 0.0671 - val_accuracy: 0.9824\n",
            "Epoch 20/30\n",
            "1719/1719 [==============================] - 6s 4ms/step - loss: 0.0425 - accuracy: 0.9863 - val_loss: 0.0633 - val_accuracy: 0.9848\n",
            "Epoch 21/30\n",
            "1719/1719 [==============================] - 6s 4ms/step - loss: 0.0415 - accuracy: 0.9867 - val_loss: 0.0655 - val_accuracy: 0.9824\n",
            "Epoch 22/30\n",
            "1719/1719 [==============================] - 7s 4ms/step - loss: 0.0399 - accuracy: 0.9874 - val_loss: 0.0668 - val_accuracy: 0.9832\n",
            "Epoch 23/30\n",
            "1719/1719 [==============================] - 6s 4ms/step - loss: 0.0348 - accuracy: 0.9887 - val_loss: 0.0631 - val_accuracy: 0.9844\n",
            "Epoch 24/30\n",
            "1719/1719 [==============================] - 6s 4ms/step - loss: 0.0348 - accuracy: 0.9890 - val_loss: 0.0639 - val_accuracy: 0.9836\n",
            "Epoch 25/30\n",
            "1719/1719 [==============================] - 6s 4ms/step - loss: 0.0334 - accuracy: 0.9890 - val_loss: 0.0648 - val_accuracy: 0.9848\n",
            "Epoch 26/30\n",
            "1719/1719 [==============================] - 6s 4ms/step - loss: 0.0334 - accuracy: 0.9891 - val_loss: 0.0696 - val_accuracy: 0.9840\n",
            "Epoch 27/30\n",
            "1719/1719 [==============================] - 6s 4ms/step - loss: 0.0318 - accuracy: 0.9895 - val_loss: 0.0662 - val_accuracy: 0.9848\n",
            "Epoch 28/30\n",
            "1719/1719 [==============================] - 6s 4ms/step - loss: 0.0300 - accuracy: 0.9898 - val_loss: 0.0646 - val_accuracy: 0.9848\n",
            "Epoch 29/30\n",
            "1719/1719 [==============================] - 6s 4ms/step - loss: 0.0277 - accuracy: 0.9911 - val_loss: 0.0645 - val_accuracy: 0.9844\n",
            "Epoch 30/30\n",
            "1719/1719 [==============================] - 6s 4ms/step - loss: 0.0281 - accuracy: 0.9913 - val_loss: 0.0672 - val_accuracy: 0.9832\n"
          ],
          "name": "stdout"
        }
      ]
    },
    {
      "cell_type": "code",
      "metadata": {
        "colab": {
          "base_uri": "https://localhost:8080/"
        },
        "id": "cqIZzTdEr_L7",
        "outputId": "76960531-39f2-4f59-8cd8-5dcb56eb20ca"
      },
      "source": [
        "print(\"History Params : \", handwritten_history.params)\n",
        "print(\"History Epoch : \", handwritten_history.epoch)\n",
        "print(\"History Keys : \" ,handwritten_history.history.keys())"
      ],
      "execution_count": 81,
      "outputs": [
        {
          "output_type": "stream",
          "text": [
            "History Params :  {'verbose': 1, 'epochs': 30, 'steps': 1719}\n",
            "History Epoch :  [0, 1, 2, 3, 4, 5, 6, 7, 8, 9, 10, 11, 12, 13, 14, 15, 16, 17, 18, 19, 20, 21, 22, 23, 24, 25, 26, 27, 28, 29]\n",
            "History Keys :  dict_keys(['loss', 'accuracy', 'val_loss', 'val_accuracy'])\n"
          ],
          "name": "stdout"
        }
      ]
    },
    {
      "cell_type": "code",
      "metadata": {
        "id": "PYR0DKX0sE7h"
      },
      "source": [
        "#Learning Curves\""
      ],
      "execution_count": null,
      "outputs": []
    },
    {
      "cell_type": "code",
      "metadata": {
        "colab": {
          "base_uri": "https://localhost:8080/",
          "height": 327
        },
        "id": "fBAjEa4JsLx-",
        "outputId": "7af80df6-baca-4daa-b277-598b612d8c3d"
      },
      "source": [
        "#Plotting Learning Curves\n",
        "pd.DataFrame(handwritten_history.history).plot(figsize=(8, 5))\n",
        "plt.grid(True)\n",
        "plt.gca().set_ylim(0, 1)\n",
        "plt.show()"
      ],
      "execution_count": 82,
      "outputs": [
        {
          "output_type": "display_data",
          "data": {
            "image/png": "[encoded data removed]",
            "text/plain": [
              "<Figure size 576x360 with 1 Axes>"
            ]
          },
          "metadata": {
            "tags": [],
            "needs_background": "light"
          }
        }
      ]
    },
    {
      "cell_type": "code",
      "metadata": {
        "colab": {
          "base_uri": "https://localhost:8080/"
        },
        "id": "gbCX0gu3tzqw",
        "outputId": "9643b1d0-a928-493c-ee2b-e54ab3e8639c"
      },
      "source": [
        "print(\"Evaluation : \", handwritten_model.evaluate(X_test, y_test))"
      ],
      "execution_count": 83,
      "outputs": [
        {
          "output_type": "stream",
          "text": [
            "313/313 [==============================] - 1s 2ms/step - loss: 0.0654 - accuracy: 0.9827\n",
            "Evaluation :  [0.06536075472831726, 0.982699990272522]\n"
          ],
          "name": "stdout"
        }
      ]
    },
    {
      "cell_type": "code",
      "metadata": {
        "colab": {
          "base_uri": "https://localhost:8080/"
        },
        "id": "BskX88v7t1AZ",
        "outputId": "d0e388b8-b21e-4ec5-af5b-922f47eebbce"
      },
      "source": [
        "X_new = X_test[:3]\n",
        "y_proba = handwritten_model.predict(X_new)\n",
        "y_proba.round(2)"
      ],
      "execution_count": 84,
      "outputs": [
        {
          "output_type": "execute_result",
          "data": {
            "text/plain": [
              "array([[0., 0., 0., 0., 0., 0., 0., 1., 0., 0.],\n",
              "       [0., 0., 1., 0., 0., 0., 0., 0., 0., 0.],\n",
              "       [0., 1., 0., 0., 0., 0., 0., 0., 0., 0.]], dtype=float32)"
            ]
          },
          "metadata": {
            "tags": []
          },
          "execution_count": 84
        }
      ]
    },
    {
      "cell_type": "code",
      "metadata": {
        "colab": {
          "base_uri": "https://localhost:8080/"
        },
        "id": "9Gndhfizt3On",
        "outputId": "3f0a61a2-d517-48a9-fde4-3005f2b7baa4"
      },
      "source": [
        "y_pred = handwritten_model.predict_classes(X_new)\n",
        "print(\"y_pred : \", y_pred)"
      ],
      "execution_count": 85,
      "outputs": [
        {
          "output_type": "stream",
          "text": [
            "y_pred :  [7 2 1]\n"
          ],
          "name": "stdout"
        }
      ]
    },
    {
      "cell_type": "code",
      "metadata": {
        "colab": {
          "base_uri": "https://localhost:8080/"
        },
        "id": "ounx08ZEt7at",
        "outputId": "6fc3b7c3-1e4b-40f1-8ffe-d3dcdecab66b"
      },
      "source": [
        "np.array(class_names)[y_pred]"
      ],
      "execution_count": 86,
      "outputs": [
        {
          "output_type": "execute_result",
          "data": {
            "text/plain": [
              "array(['7', '2', '1'], dtype='<U1')"
            ]
          },
          "metadata": {
            "tags": []
          },
          "execution_count": 86
        }
      ]
    },
    {
      "cell_type": "code",
      "metadata": {
        "colab": {
          "base_uri": "https://localhost:8080/"
        },
        "id": "FMaTbV_Nt_FX",
        "outputId": "a10fdeaf-ee2c-440c-870d-f6155903dc9f"
      },
      "source": [
        "y_new = y_test[:3]\n",
        "print(\"y_new : \", y_new)"
      ],
      "execution_count": 87,
      "outputs": [
        {
          "output_type": "stream",
          "text": [
            "y_new :  [7 2 1]\n"
          ],
          "name": "stdout"
        }
      ]
    },
    {
      "cell_type": "code",
      "metadata": {
        "colab": {
          "base_uri": "https://localhost:8080/",
          "height": 128
        },
        "id": "nKXONsm5uBeM",
        "outputId": "3bdbdafb-ad09-491b-aabd-e97aa45c8194"
      },
      "source": [
        "plt.figure(figsize=(5, 5))\n",
        "for index, image in enumerate(X_new):\n",
        "    plt.subplot(1, 3, index + 1)\n",
        "    plt.imshow(image, cmap=\"binary\", interpolation=\"nearest\")\n",
        "    plt.axis('off')\n",
        "    plt.title(class_names[y_test[index]], fontsize=12)\n",
        "plt.subplots_adjust(wspace=0.2, hspace=0.5)\n",
        "plt.show()"
      ],
      "execution_count": 88,
      "outputs": [
        {
          "output_type": "display_data",
          "data": {
            "image/png": "[encoded data removed]",
            "text/plain": [
              "<Figure size 360x360 with 3 Axes>"
            ]
          },
          "metadata": {
            "tags": [],
            "needs_background": "light"
          }
        }
      ]
    },
    {
      "cell_type": "code",
      "metadata": {
        "id": "Wm_nLS7muEiZ"
      },
      "source": [
        ""
      ],
      "execution_count": null,
      "outputs": []
    }
  ]
}